{
 "cells": [
  {
   "cell_type": "markdown",
   "metadata": {
    "id": "LlFTwPP-pCwf"
   },
   "source": [
    "#PANDAS (PANel DAta) is a high-level data manipulation tool used for analysing data.\n",
    "It is very easy to import and export data using Pandas library which has a very\n",
    "rich set of functions.\n",
    "\n",
    "It is built on packages like NumPy and Matplotlib and gives us a single, convenient place to do most of our data analysis and visualisation work.\n",
    "\n",
    "Pandas has three important data structures–Series, DataFrame and Panel to make the process of analysing data organised, effective and efficient."
   ]
  },
  {
   "cell_type": "code",
   "execution_count": 2,
   "metadata": {
    "id": "5k0wHYJnqC5B"
   },
   "outputs": [],
   "source": [
    "#Data Structure in Pandas\n",
    "#Series\n",
    "#DataFrame"
   ]
  },
  {
   "cell_type": "code",
   "execution_count": 3,
   "metadata": {
    "id": "ZYTJhIo9qQxL"
   },
   "outputs": [],
   "source": [
    "#Series\n",
    "#A Series is a one-dimensional array containing a sequence of values of any data type (int, float, list,string, etc) which by default have numeric data labels starting from zero."
   ]
  },
  {
   "cell_type": "code",
   "execution_count": 4,
   "metadata": {
    "colab": {
     "base_uri": "https://localhost:8080/"
    },
    "id": "LhpHmuOlqtPY",
    "outputId": "56dcd404-fe79-4ca2-fd95-0044ca4ce9b6"
   },
   "outputs": [
    {
     "name": "stdout",
     "output_type": "stream",
     "text": [
      "0    10\n",
      "1    20\n",
      "2    30\n",
      "dtype: int64\n"
     ]
    }
   ],
   "source": [
    "# Creation of Series\n",
    "import pandas as pd #import Pandas with alias pd\n",
    "series1 = pd.Series([10,20,30]) #create a Series\n",
    "print(series1) #Display the series"
   ]
  },
  {
   "cell_type": "code",
   "execution_count": 5,
   "metadata": {
    "colab": {
     "base_uri": "https://localhost:8080/"
    },
    "id": "mBrbfZRIq4na",
    "outputId": "76982575-82e2-47c3-acc5-1c41394552cc"
   },
   "outputs": [
    {
     "name": "stdout",
     "output_type": "stream",
     "text": [
      "3     Kavi\n",
      "5    Shyam\n",
      "1     Ravi\n",
      "dtype: object\n"
     ]
    }
   ],
   "source": [
    "#Example has a numeric index in random order.\n",
    "series2 = pd.Series([\"Kavi\",\"Shyam\",\"Ravi\"], index=[3,5,1])\n",
    "print(series2)"
   ]
  },
  {
   "cell_type": "code",
   "execution_count": 6,
   "metadata": {
    "colab": {
     "base_uri": "https://localhost:8080/"
    },
    "id": "3M-3c04OrjIQ",
    "outputId": "0a2b61df-b038-47f4-8c64-0c1a76c96017"
   },
   "outputs": [
    {
     "name": "stdout",
     "output_type": "stream",
     "text": [
      "0    1\n",
      "1    2\n",
      "2    3\n",
      "3    4\n",
      "dtype: int32\n"
     ]
    }
   ],
   "source": [
    "# Creation of Series from NumPy Arrays\n",
    "#Series from a one-dimensional (1D) NumPy array:\n",
    "import numpy as np # import NumPy with alias np\n",
    "import pandas as pd\n",
    "array1 = np.array([1,2,3,4])\n",
    "series3 = pd.Series(array1)\n",
    "print(series3)"
   ]
  },
  {
   "cell_type": "code",
   "execution_count": 7,
   "metadata": {},
   "outputs": [
    {
     "name": "stdout",
     "output_type": "stream",
     "text": [
      "A      1\n",
      "B      2\n",
      "C      3\n",
      "D      5\n",
      "E      7\n",
      "F    455\n",
      "dtype: int32\n"
     ]
    }
   ],
   "source": [
    "y=np.array([1,2,3,5,7,455])\n",
    "x=pd.Series(y,index=[\"A\",\"B\",\"C\",\"D\",\"E\",\"F\"])\n",
    "print(x)"
   ]
  },
  {
   "cell_type": "code",
   "execution_count": 8,
   "metadata": {
    "colab": {
     "base_uri": "https://localhost:8080/"
    },
    "id": "qkNFrwAPsDp0",
    "outputId": "bf2f86fc-b0d5-4242-8c93-06a2d6cd5e5d"
   },
   "outputs": [
    {
     "name": "stdout",
     "output_type": "stream",
     "text": [
      "Jan    1\n",
      "Feb    2\n",
      "Mar    3\n",
      "Apr    4\n",
      "dtype: int32\n"
     ]
    }
   ],
   "source": [
    "# we can use letters or strings as indices:\n",
    "array1 = np.array([1,2,3,4])\n",
    "series4 = pd.Series(array1, index = [\"Jan\",\"Feb\", \"Mar\",\"Apr\"])\n",
    "print(series4)"
   ]
  },
  {
   "cell_type": "code",
   "execution_count": 9,
   "metadata": {},
   "outputs": [
    {
     "name": "stdout",
     "output_type": "stream",
     "text": [
      "India        Sahil\n",
      "America       Josh\n",
      "Thailand    Yoshua\n",
      "dtype: object\n"
     ]
    }
   ],
   "source": [
    "x={\"India\":\"Sahil\",\"America\":\"Josh\",\"Thailand\":\"Yoshua\"}\n",
    "df=pd.Series(x)\n",
    "print(df)"
   ]
  },
  {
   "cell_type": "code",
   "execution_count": 10,
   "metadata": {
    "colab": {
     "base_uri": "https://localhost:8080/"
    },
    "id": "jOW6NXllsU9H",
    "outputId": "54362f7d-c4b9-4b13-f63a-de31217e680d"
   },
   "outputs": [
    {
     "name": "stdout",
     "output_type": "stream",
     "text": [
      "{'India': 'NewDelhi', 'UK': 'London', 'Japan': 'Tokyo'}\n"
     ]
    },
    {
     "data": {
      "text/plain": [
       "{'India': 'NewDelhi', 'UK': 'London', 'Japan': 'Tokyo'}"
      ]
     },
     "execution_count": 10,
     "metadata": {},
     "output_type": "execute_result"
    }
   ],
   "source": [
    "#Creation of Series from Dictionary\n",
    "dict1 = {'India': 'NewDelhi', 'UK':\n",
    "'London', 'Japan': 'Tokyo'}\n",
    "print(dict1) #Display the dictionary\n",
    "{'India': 'NewDelhi', 'UK': 'London', 'Japan':\n",
    "'Tokyo'}"
   ]
  },
  {
   "cell_type": "code",
   "execution_count": 11,
   "metadata": {
    "colab": {
     "base_uri": "https://localhost:8080/"
    },
    "id": "hPi1eX_VskcR",
    "outputId": "378812af-eed7-454e-df2f-28ffda5f276e"
   },
   "outputs": [
    {
     "name": "stdout",
     "output_type": "stream",
     "text": [
      "India    NewDelhi\n",
      "UK         London\n",
      "Japan       Tokyo\n",
      "dtype: object\n"
     ]
    }
   ],
   "source": [
    "series8 = pd.Series(dict1)\n",
    "print(series8)"
   ]
  },
  {
   "cell_type": "code",
   "execution_count": 12,
   "metadata": {
    "colab": {
     "base_uri": "https://localhost:8080/",
     "height": 178
    },
    "id": "xlH--xxDsosR",
    "outputId": "29b0b300-6ec3-4390-f9a5-1a74a0bfdf9c"
   },
   "outputs": [
    {
     "data": {
      "text/plain": [
       "A    10\n",
       "dtype: int64"
      ]
     },
     "execution_count": 12,
     "metadata": {},
     "output_type": "execute_result"
    }
   ],
   "source": [
    "# Accessing Elements of a Series\n",
    "import pandas as pd\n",
    "seriesNum = pd.Series([10,20,30],index=[\"A\",\"B\",\"C\"])\n",
    "seriesNum[:1]"
   ]
  },
  {
   "cell_type": "code",
   "execution_count": 13,
   "metadata": {
    "colab": {
     "base_uri": "https://localhost:8080/"
    },
    "id": "jbl43RAOtcz2",
    "outputId": "6af7b0fd-0823-4e06-9c80-9cd76cfdfc71"
   },
   "outputs": [
    {
     "data": {
      "text/plain": [
       "3"
      ]
     },
     "execution_count": 13,
     "metadata": {},
     "output_type": "execute_result"
    }
   ],
   "source": [
    "seriesMnths = pd.Series([2,3,4],index=[\"Feb\",\"Mar\",\"Apr\"])\n",
    "seriesMnths[\"Mar\"]"
   ]
  },
  {
   "cell_type": "code",
   "execution_count": 14,
   "metadata": {
    "colab": {
     "base_uri": "https://localhost:8080/"
    },
    "id": "C5JfX3cmU75G",
    "outputId": "824607c7-1dae-4d7b-d679-0be47a575cc4"
   },
   "outputs": [
    {
     "name": "stderr",
     "output_type": "stream",
     "text": [
      "C:\\Users\\sb193\\AppData\\Local\\Temp\\ipykernel_7044\\690033389.py:1: FutureWarning: Series.__getitem__ treating keys as positions is deprecated. In a future version, integer keys will always be treated as labels (consistent with DataFrame behavior). To access a value by position, use `ser.iloc[pos]`\n",
      "  seriesNum[2]\n"
     ]
    },
    {
     "data": {
      "text/plain": [
       "30"
      ]
     },
     "execution_count": 14,
     "metadata": {},
     "output_type": "execute_result"
    }
   ],
   "source": [
    "seriesNum[2]"
   ]
  },
  {
   "cell_type": "code",
   "execution_count": 15,
   "metadata": {
    "colab": {
     "base_uri": "https://localhost:8080/",
     "height": 209
    },
    "id": "Qs8ucYqQtjlw",
    "outputId": "054f2402-873e-4c01-8fc9-9689c256d4ca"
   },
   "outputs": [
    {
     "data": {
      "text/plain": [
       "India         NewDelhi\n",
       "USA       WashingtonDC\n",
       "UK              London\n",
       "France           Paris\n",
       "dtype: object"
      ]
     },
     "execution_count": 15,
     "metadata": {},
     "output_type": "execute_result"
    }
   ],
   "source": [
    "#Slicing\n",
    "seriesCapCntry = pd.Series(['NewDelhi', 'WashingtonDC', 'London','Paris'], index=['India', 'USA', 'UK', 'France'])\n",
    "seriesCapCntry"
   ]
  },
  {
   "cell_type": "code",
   "execution_count": 16,
   "metadata": {
    "colab": {
     "base_uri": "https://localhost:8080/",
     "height": 147
    },
    "id": "XJb7byr3VRYW",
    "outputId": "60e84220-f1ea-4284-db4d-5b0735ba120e"
   },
   "outputs": [
    {
     "data": {
      "text/plain": [
       "USA    WashingtonDC\n",
       "UK           London\n",
       "dtype: object"
      ]
     },
     "execution_count": 16,
     "metadata": {},
     "output_type": "execute_result"
    }
   ],
   "source": [
    "seriesCapCntry[1:3]"
   ]
  },
  {
   "cell_type": "code",
   "execution_count": 17,
   "metadata": {
    "colab": {
     "base_uri": "https://localhost:8080/"
    },
    "id": "Mjgo5h-Gtxb6",
    "outputId": "bbcbaf7d-d30e-4250-d855-29d1ba4e1e18"
   },
   "outputs": [
    {
     "name": "stdout",
     "output_type": "stream",
     "text": [
      "0    10\n",
      "1    11\n",
      "2    12\n",
      "3    13\n",
      "4    14\n",
      "5    15\n",
      "6    16\n",
      "7    17\n",
      "8    18\n",
      "9    19\n",
      "dtype: int32\n"
     ]
    }
   ],
   "source": [
    "#Methods of Series\n",
    "import numpy as np\n",
    "seriesTenTwenty=pd.Series(np.arange(10,20, 1 ))\n",
    "print(seriesTenTwenty)"
   ]
  },
  {
   "cell_type": "code",
   "execution_count": 18,
   "metadata": {
    "colab": {
     "base_uri": "https://localhost:8080/",
     "height": 147
    },
    "id": "w3RewbqOuD80",
    "outputId": "5c035948-b235-4bf0-d5d5-542c2deee79f"
   },
   "outputs": [
    {
     "data": {
      "text/plain": [
       "0    10\n",
       "1    11\n",
       "dtype: int32"
      ]
     },
     "execution_count": 18,
     "metadata": {},
     "output_type": "execute_result"
    }
   ],
   "source": [
    "seriesTenTwenty.head(2)"
   ]
  },
  {
   "cell_type": "code",
   "execution_count": 19,
   "metadata": {
    "colab": {
     "base_uri": "https://localhost:8080/"
    },
    "id": "pGmFZuDtuQZt",
    "outputId": "2f442d07-52c5-48ce-87c3-6fb4f9b5b08b"
   },
   "outputs": [
    {
     "data": {
      "text/plain": [
       "10"
      ]
     },
     "execution_count": 19,
     "metadata": {},
     "output_type": "execute_result"
    }
   ],
   "source": [
    "seriesTenTwenty.count()"
   ]
  },
  {
   "cell_type": "code",
   "execution_count": 20,
   "metadata": {
    "colab": {
     "base_uri": "https://localhost:8080/",
     "height": 147
    },
    "id": "FOWNwvxeuVD9",
    "outputId": "3ba3b10c-2112-4379-a13b-2990c0076627"
   },
   "outputs": [
    {
     "data": {
      "text/plain": [
       "8    18\n",
       "9    19\n",
       "dtype: int32"
      ]
     },
     "execution_count": 20,
     "metadata": {},
     "output_type": "execute_result"
    }
   ],
   "source": [
    "seriesTenTwenty.tail(2)"
   ]
  },
  {
   "cell_type": "code",
   "execution_count": 21,
   "metadata": {
    "colab": {
     "base_uri": "https://localhost:8080/",
     "height": 241
    },
    "id": "Wu7hMRRwuYFF",
    "outputId": "3f85beb9-daf4-40ac-ae88-88665c50a87a"
   },
   "outputs": [
    {
     "data": {
      "text/plain": [
       "a    1\n",
       "b    2\n",
       "c    3\n",
       "d    4\n",
       "e    5\n",
       "dtype: int64"
      ]
     },
     "execution_count": 21,
     "metadata": {},
     "output_type": "execute_result"
    }
   ],
   "source": [
    "# Mathematical Operations on Series\n",
    "seriesA = pd.Series([1,2,3,4,5], index =['a', 'b', 'c', 'd', 'e'])\n",
    "seriesA"
   ]
  },
  {
   "cell_type": "code",
   "execution_count": 22,
   "metadata": {
    "colab": {
     "base_uri": "https://localhost:8080/",
     "height": 241
    },
    "id": "nPLasJdxu_yt",
    "outputId": "030fe16a-e1d3-4d34-bca9-83b09653db7d"
   },
   "outputs": [
    {
     "data": {
      "text/plain": [
       "z     10\n",
       "y     20\n",
       "a    -10\n",
       "c    -50\n",
       "e    100\n",
       "dtype: int64"
      ]
     },
     "execution_count": 22,
     "metadata": {},
     "output_type": "execute_result"
    }
   ],
   "source": [
    "seriesB = pd.Series([10,20,-10,-50,100],\n",
    "index = ['z', 'y', 'a', 'c', 'e'])\n",
    "seriesB"
   ]
  },
  {
   "cell_type": "code",
   "execution_count": 23,
   "metadata": {
    "colab": {
     "base_uri": "https://localhost:8080/",
     "height": 304
    },
    "id": "58ff5a8uulee",
    "outputId": "3d1c6ee1-3b12-43d3-cd42-dc44605e1f8a"
   },
   "outputs": [
    {
     "data": {
      "text/plain": [
       "a     -9.0\n",
       "b      NaN\n",
       "c    -47.0\n",
       "d      NaN\n",
       "e    105.0\n",
       "y      NaN\n",
       "z      NaN\n",
       "dtype: float64"
      ]
     },
     "execution_count": 23,
     "metadata": {},
     "output_type": "execute_result"
    }
   ],
   "source": [
    "#that the output of addition is NaN if one of the elements or both elements have no value.\n",
    "seriesA + seriesB"
   ]
  },
  {
   "cell_type": "code",
   "execution_count": 24,
   "metadata": {
    "colab": {
     "base_uri": "https://localhost:8080/",
     "height": 304
    },
    "id": "XusVOcLmu9YS",
    "outputId": "529f3ea9-c1e8-4ada-dca3-2cd8083381c8"
   },
   "outputs": [
    {
     "data": {
      "text/plain": [
       "a    11.0\n",
       "b     NaN\n",
       "c    53.0\n",
       "d     NaN\n",
       "e   -95.0\n",
       "y     NaN\n",
       "z     NaN\n",
       "dtype: float64"
      ]
     },
     "execution_count": 24,
     "metadata": {},
     "output_type": "execute_result"
    }
   ],
   "source": [
    "#Subtraction of two Series\n",
    "seriesA - seriesB"
   ]
  },
  {
   "cell_type": "code",
   "execution_count": 25,
   "metadata": {
    "colab": {
     "base_uri": "https://localhost:8080/",
     "height": 304
    },
    "id": "ecJLTf4tvelt",
    "outputId": "d39af3a3-8faf-4de3-d470-e6aab2a7dac5"
   },
   "outputs": [
    {
     "data": {
      "text/plain": [
       "a    -10.0\n",
       "b      NaN\n",
       "c   -150.0\n",
       "d      NaN\n",
       "e    500.0\n",
       "y      NaN\n",
       "z      NaN\n",
       "dtype: float64"
      ]
     },
     "execution_count": 25,
     "metadata": {},
     "output_type": "execute_result"
    }
   ],
   "source": [
    "#Multiplication of two Series\n",
    "seriesA * seriesB"
   ]
  },
  {
   "cell_type": "code",
   "execution_count": 26,
   "metadata": {
    "colab": {
     "base_uri": "https://localhost:8080/",
     "height": 304
    },
    "id": "WWbZEe7cvxTh",
    "outputId": "e4ebb2fd-b59d-4014-af4e-b3c7c2418714"
   },
   "outputs": [
    {
     "data": {
      "text/plain": [
       "a   -0.10\n",
       "b     NaN\n",
       "c   -0.06\n",
       "d     NaN\n",
       "e    0.05\n",
       "y     NaN\n",
       "z     NaN\n",
       "dtype: float64"
      ]
     },
     "execution_count": 26,
     "metadata": {},
     "output_type": "execute_result"
    }
   ],
   "source": [
    "# Division of two Series\n",
    "seriesA/seriesB"
   ]
  },
  {
   "cell_type": "markdown",
   "metadata": {
    "id": "bgYsWkQbwULd"
   },
   "source": [
    "#DataFrame\n",
    "A DataFrame is a two-dimensional labelled data structure like a table of MySQL.\n",
    "It contains rows and columns, and therefore has both a row and column index.\n",
    "Each column can have a different type of value such as numeric, string,\n",
    "boolean, etc., as in tables of a database."
   ]
  },
  {
   "cell_type": "code",
   "execution_count": 28,
   "metadata": {
    "colab": {
     "base_uri": "https://localhost:8080/",
     "height": 143
    },
    "id": "I1oH_JqMv-_A",
    "outputId": "14d00bcc-6de4-4025-b599-6cd58fe4c88a"
   },
   "outputs": [
    {
     "data": {
      "text/html": [
       "<div>\n",
       "<style scoped>\n",
       "    .dataframe tbody tr th:only-of-type {\n",
       "        vertical-align: middle;\n",
       "    }\n",
       "\n",
       "    .dataframe tbody tr th {\n",
       "        vertical-align: top;\n",
       "    }\n",
       "\n",
       "    .dataframe thead th {\n",
       "        text-align: right;\n",
       "    }\n",
       "</style>\n",
       "<table border=\"1\" class=\"dataframe\">\n",
       "  <thead>\n",
       "    <tr style=\"text-align: right;\">\n",
       "      <th></th>\n",
       "      <th>0</th>\n",
       "    </tr>\n",
       "  </thead>\n",
       "  <tbody>\n",
       "    <tr>\n",
       "      <th>0</th>\n",
       "      <td>10</td>\n",
       "    </tr>\n",
       "    <tr>\n",
       "      <th>1</th>\n",
       "      <td>20</td>\n",
       "    </tr>\n",
       "    <tr>\n",
       "      <th>2</th>\n",
       "      <td>30</td>\n",
       "    </tr>\n",
       "  </tbody>\n",
       "</table>\n",
       "</div>"
      ],
      "text/plain": [
       "    0\n",
       "0  10\n",
       "1  20\n",
       "2  30"
      ]
     },
     "execution_count": 28,
     "metadata": {},
     "output_type": "execute_result"
    }
   ],
   "source": [
    "# Creation of DataFrame\n",
    "# Creation of DataFrame from NumPy ndarrays\n",
    "import numpy as np\n",
    "array1 = np.array([10,20,30])\n",
    "array2 = np.array([100,200,300])\n",
    "array3 = np.array([-10,-20,-30, -40])\n",
    "dFrame4 = pd.DataFrame(array1)\n",
    "dFrame4\n"
   ]
  },
  {
   "cell_type": "code",
   "execution_count": 29,
   "metadata": {
    "colab": {
     "base_uri": "https://localhost:8080/",
     "height": 125
    },
    "id": "hB1KDo2Exe36",
    "outputId": "dbfa46f4-ffab-4b8c-cbcc-0d81ea618896"
   },
   "outputs": [
    {
     "data": {
      "text/html": [
       "<div>\n",
       "<style scoped>\n",
       "    .dataframe tbody tr th:only-of-type {\n",
       "        vertical-align: middle;\n",
       "    }\n",
       "\n",
       "    .dataframe tbody tr th {\n",
       "        vertical-align: top;\n",
       "    }\n",
       "\n",
       "    .dataframe thead th {\n",
       "        text-align: right;\n",
       "    }\n",
       "</style>\n",
       "<table border=\"1\" class=\"dataframe\">\n",
       "  <thead>\n",
       "    <tr style=\"text-align: right;\">\n",
       "      <th></th>\n",
       "      <th>a</th>\n",
       "      <th>b</th>\n",
       "      <th>c</th>\n",
       "    </tr>\n",
       "  </thead>\n",
       "  <tbody>\n",
       "    <tr>\n",
       "      <th>0</th>\n",
       "      <td>10</td>\n",
       "      <td>20</td>\n",
       "      <td>NaN</td>\n",
       "    </tr>\n",
       "    <tr>\n",
       "      <th>1</th>\n",
       "      <td>5</td>\n",
       "      <td>10</td>\n",
       "      <td>20.0</td>\n",
       "    </tr>\n",
       "  </tbody>\n",
       "</table>\n",
       "</div>"
      ],
      "text/plain": [
       "    a   b     c\n",
       "0  10  20   NaN\n",
       "1   5  10  20.0"
      ]
     },
     "execution_count": 29,
     "metadata": {},
     "output_type": "execute_result"
    }
   ],
   "source": [
    "#Creation of DataFrame from List of Dictionaries\n",
    "listDict = [{'a':10, 'b':20}, {'a':5,'b':10, 'c':20}]\n",
    "dFrameListDict = pd.DataFrame(listDict)\n",
    "dFrameListDict"
   ]
  },
  {
   "cell_type": "code",
   "execution_count": 30,
   "metadata": {},
   "outputs": [
    {
     "data": {
      "text/html": [
       "<div>\n",
       "<style scoped>\n",
       "    .dataframe tbody tr th:only-of-type {\n",
       "        vertical-align: middle;\n",
       "    }\n",
       "\n",
       "    .dataframe tbody tr th {\n",
       "        vertical-align: top;\n",
       "    }\n",
       "\n",
       "    .dataframe thead th {\n",
       "        text-align: right;\n",
       "    }\n",
       "</style>\n",
       "<table border=\"1\" class=\"dataframe\">\n",
       "  <thead>\n",
       "    <tr style=\"text-align: right;\">\n",
       "      <th></th>\n",
       "      <th>A</th>\n",
       "      <th>B</th>\n",
       "      <th>C</th>\n",
       "      <th>D</th>\n",
       "    </tr>\n",
       "  </thead>\n",
       "  <tbody>\n",
       "    <tr>\n",
       "      <th>0</th>\n",
       "      <td>2</td>\n",
       "      <td>3</td>\n",
       "      <td>45</td>\n",
       "      <td>34</td>\n",
       "    </tr>\n",
       "    <tr>\n",
       "      <th>1</th>\n",
       "      <td>12</td>\n",
       "      <td>23</td>\n",
       "      <td>34</td>\n",
       "      <td>453</td>\n",
       "    </tr>\n",
       "  </tbody>\n",
       "</table>\n",
       "</div>"
      ],
      "text/plain": [
       "    A   B   C    D\n",
       "0   2   3  45   34\n",
       "1  12  23  34  453"
      ]
     },
     "execution_count": 30,
     "metadata": {},
     "output_type": "execute_result"
    }
   ],
   "source": [
    "x=pd.Series([2,3,45,34],index=[\"A\",\"B\",\"C\",\"D\"])\n",
    "y=pd.Series([12,23,34,453],index=[\"A\",\"B\",\"C\",\"D\"])\n",
    "df=pd.DataFrame([x,y])\n",
    "df"
   ]
  },
  {
   "cell_type": "code",
   "execution_count": 31,
   "metadata": {
    "colab": {
     "base_uri": "https://localhost:8080/",
     "height": 206
    },
    "id": "I9ZI6ej3xqdb",
    "outputId": "efba7248-c7d6-4ba8-a384-8ef44824a9f2"
   },
   "outputs": [
    {
     "data": {
      "text/html": [
       "<div>\n",
       "<style scoped>\n",
       "    .dataframe tbody tr th:only-of-type {\n",
       "        vertical-align: middle;\n",
       "    }\n",
       "\n",
       "    .dataframe tbody tr th {\n",
       "        vertical-align: top;\n",
       "    }\n",
       "\n",
       "    .dataframe thead th {\n",
       "        text-align: right;\n",
       "    }\n",
       "</style>\n",
       "<table border=\"1\" class=\"dataframe\">\n",
       "  <thead>\n",
       "    <tr style=\"text-align: right;\">\n",
       "      <th></th>\n",
       "      <th>0</th>\n",
       "    </tr>\n",
       "  </thead>\n",
       "  <tbody>\n",
       "    <tr>\n",
       "      <th>a</th>\n",
       "      <td>1</td>\n",
       "    </tr>\n",
       "    <tr>\n",
       "      <th>b</th>\n",
       "      <td>2</td>\n",
       "    </tr>\n",
       "    <tr>\n",
       "      <th>c</th>\n",
       "      <td>3</td>\n",
       "    </tr>\n",
       "    <tr>\n",
       "      <th>d</th>\n",
       "      <td>4</td>\n",
       "    </tr>\n",
       "    <tr>\n",
       "      <th>e</th>\n",
       "      <td>5</td>\n",
       "    </tr>\n",
       "  </tbody>\n",
       "</table>\n",
       "</div>"
      ],
      "text/plain": [
       "   0\n",
       "a  1\n",
       "b  2\n",
       "c  3\n",
       "d  4\n",
       "e  5"
      ]
     },
     "execution_count": 31,
     "metadata": {},
     "output_type": "execute_result"
    }
   ],
   "source": [
    "#Creation of DataFrame from Series\n",
    "seriesA = pd.Series([1,2,3,4,5],index = ['a', 'b', 'c', 'd', 'e'])\n",
    "seriesB = pd.Series ([1000,2000,-1000,-5000,1000],index = ['a', 'b', 'c', 'd', 'e'])\n",
    "seriesC = pd.Series([10,20,-10,-50,100],index = ['z', 'y', 'a', 'c', 'e'])\n",
    "\n",
    "dFrame6 = pd.DataFrame(seriesA)\n",
    "dFrame6"
   ]
  },
  {
   "cell_type": "code",
   "execution_count": 32,
   "metadata": {
    "colab": {
     "base_uri": "https://localhost:8080/",
     "height": 125
    },
    "id": "os1qlR_4yVRO",
    "outputId": "7beec47d-15cc-4778-b82c-bc6264ebf37d"
   },
   "outputs": [
    {
     "data": {
      "text/html": [
       "<div>\n",
       "<style scoped>\n",
       "    .dataframe tbody tr th:only-of-type {\n",
       "        vertical-align: middle;\n",
       "    }\n",
       "\n",
       "    .dataframe tbody tr th {\n",
       "        vertical-align: top;\n",
       "    }\n",
       "\n",
       "    .dataframe thead th {\n",
       "        text-align: right;\n",
       "    }\n",
       "</style>\n",
       "<table border=\"1\" class=\"dataframe\">\n",
       "  <thead>\n",
       "    <tr style=\"text-align: right;\">\n",
       "      <th></th>\n",
       "      <th>a</th>\n",
       "      <th>b</th>\n",
       "      <th>c</th>\n",
       "      <th>d</th>\n",
       "      <th>e</th>\n",
       "    </tr>\n",
       "  </thead>\n",
       "  <tbody>\n",
       "    <tr>\n",
       "      <th>0</th>\n",
       "      <td>1</td>\n",
       "      <td>2</td>\n",
       "      <td>3</td>\n",
       "      <td>4</td>\n",
       "      <td>5</td>\n",
       "    </tr>\n",
       "    <tr>\n",
       "      <th>1</th>\n",
       "      <td>1000</td>\n",
       "      <td>2000</td>\n",
       "      <td>-1000</td>\n",
       "      <td>-5000</td>\n",
       "      <td>1000</td>\n",
       "    </tr>\n",
       "  </tbody>\n",
       "</table>\n",
       "</div>"
      ],
      "text/plain": [
       "      a     b     c     d     e\n",
       "0     1     2     3     4     5\n",
       "1  1000  2000 -1000 -5000  1000"
      ]
     },
     "execution_count": 32,
     "metadata": {},
     "output_type": "execute_result"
    }
   ],
   "source": [
    "dFrame7 = pd.DataFrame([seriesA, seriesB])\n",
    "dFrame7"
   ]
  },
  {
   "cell_type": "code",
   "execution_count": 33,
   "metadata": {
    "colab": {
     "base_uri": "https://localhost:8080/",
     "height": 143
    },
    "id": "lQNF_FSYykBY",
    "outputId": "810152d9-e591-47e7-e0df-c2bf10965bb4"
   },
   "outputs": [
    {
     "data": {
      "text/html": [
       "<div>\n",
       "<style scoped>\n",
       "    .dataframe tbody tr th:only-of-type {\n",
       "        vertical-align: middle;\n",
       "    }\n",
       "\n",
       "    .dataframe tbody tr th {\n",
       "        vertical-align: top;\n",
       "    }\n",
       "\n",
       "    .dataframe thead th {\n",
       "        text-align: right;\n",
       "    }\n",
       "</style>\n",
       "<table border=\"1\" class=\"dataframe\">\n",
       "  <thead>\n",
       "    <tr style=\"text-align: right;\">\n",
       "      <th></th>\n",
       "      <th>Arnab</th>\n",
       "      <th>Ramit</th>\n",
       "      <th>Sahir</th>\n",
       "      <th>Riya</th>\n",
       "      <th>Mallika</th>\n",
       "    </tr>\n",
       "  </thead>\n",
       "  <tbody>\n",
       "    <tr>\n",
       "      <th>Maths</th>\n",
       "      <td>90</td>\n",
       "      <td>92</td>\n",
       "      <td>89</td>\n",
       "      <td>81</td>\n",
       "      <td>94</td>\n",
       "    </tr>\n",
       "    <tr>\n",
       "      <th>Science</th>\n",
       "      <td>91</td>\n",
       "      <td>81</td>\n",
       "      <td>91</td>\n",
       "      <td>71</td>\n",
       "      <td>95</td>\n",
       "    </tr>\n",
       "    <tr>\n",
       "      <th>Hindi</th>\n",
       "      <td>97</td>\n",
       "      <td>96</td>\n",
       "      <td>88</td>\n",
       "      <td>67</td>\n",
       "      <td>99</td>\n",
       "    </tr>\n",
       "  </tbody>\n",
       "</table>\n",
       "</div>"
      ],
      "text/plain": [
       "         Arnab  Ramit  Sahir  Riya  Mallika\n",
       "Maths       90     92     89    81       94\n",
       "Science     91     81     91    71       95\n",
       "Hindi       97     96     88    67       99"
      ]
     },
     "execution_count": 33,
     "metadata": {},
     "output_type": "execute_result"
    }
   ],
   "source": [
    "# Creation of DataFrame from Dictionary of Series\n",
    "ResultSheet={'Arnab': pd.Series([90, 91, 97],index=['Maths','Science','Hindi']),\n",
    "'Ramit': pd.Series([92, 81, 96],index=['Maths','Science','Hindi']),\n",
    "'Sahir': pd.Series([89, 91, 88],index=['Maths','Science','Hindi']),\n",
    "'Riya': pd.Series([81, 71, 67],index=['Maths','Science','Hindi']),\n",
    "'Mallika': pd.Series([94, 95, 99],index=['Maths','Science','Hindi'])}\n",
    "ResultDF = pd.DataFrame(ResultSheet)\n",
    "ResultDF"
   ]
  },
  {
   "cell_type": "code",
   "execution_count": 34,
   "metadata": {},
   "outputs": [
    {
     "data": {
      "text/html": [
       "<div>\n",
       "<style scoped>\n",
       "    .dataframe tbody tr th:only-of-type {\n",
       "        vertical-align: middle;\n",
       "    }\n",
       "\n",
       "    .dataframe tbody tr th {\n",
       "        vertical-align: top;\n",
       "    }\n",
       "\n",
       "    .dataframe thead th {\n",
       "        text-align: right;\n",
       "    }\n",
       "</style>\n",
       "<table border=\"1\" class=\"dataframe\">\n",
       "  <thead>\n",
       "    <tr style=\"text-align: right;\">\n",
       "      <th></th>\n",
       "      <th>Kakul</th>\n",
       "      <th>Nitin</th>\n",
       "    </tr>\n",
       "  </thead>\n",
       "  <tbody>\n",
       "    <tr>\n",
       "      <th>Python</th>\n",
       "      <td>16</td>\n",
       "      <td>17</td>\n",
       "    </tr>\n",
       "    <tr>\n",
       "      <th>Sql</th>\n",
       "      <td>18</td>\n",
       "      <td>17</td>\n",
       "    </tr>\n",
       "    <tr>\n",
       "      <th>Stats</th>\n",
       "      <td>20</td>\n",
       "      <td>20</td>\n",
       "    </tr>\n",
       "    <tr>\n",
       "      <th>Excel</th>\n",
       "      <td>20</td>\n",
       "      <td>20</td>\n",
       "    </tr>\n",
       "    <tr>\n",
       "      <th>Fp</th>\n",
       "      <td>20</td>\n",
       "      <td>20</td>\n",
       "    </tr>\n",
       "  </tbody>\n",
       "</table>\n",
       "</div>"
      ],
      "text/plain": [
       "        Kakul  Nitin\n",
       "Python     16     17\n",
       "Sql        18     17\n",
       "Stats      20     20\n",
       "Excel      20     20\n",
       "Fp         20     20"
      ]
     },
     "execution_count": 34,
     "metadata": {},
     "output_type": "execute_result"
    }
   ],
   "source": [
    "df={\"Kakul\":pd.Series([16,18,20,20,20],index=[\"Python\",\"Sql\",\"Stats\",\"Excel\",\"Fp\"]),\n",
    "\"Nitin\":pd.Series([17,17,20,20,20],index=[\"Python\",\"Sql\",\"Stats\",\"Excel\",\"Fp\"])}\n",
    "sub=pd.DataFrame(df)\n",
    "sub"
   ]
  },
  {
   "cell_type": "code",
   "execution_count": 35,
   "metadata": {},
   "outputs": [
    {
     "data": {
      "text/html": [
       "<div>\n",
       "<style scoped>\n",
       "    .dataframe tbody tr th:only-of-type {\n",
       "        vertical-align: middle;\n",
       "    }\n",
       "\n",
       "    .dataframe tbody tr th {\n",
       "        vertical-align: top;\n",
       "    }\n",
       "\n",
       "    .dataframe thead th {\n",
       "        text-align: right;\n",
       "    }\n",
       "</style>\n",
       "<table border=\"1\" class=\"dataframe\">\n",
       "  <thead>\n",
       "    <tr style=\"text-align: right;\">\n",
       "      <th></th>\n",
       "      <th>Kakul</th>\n",
       "      <th>Nitin</th>\n",
       "      <th>Suneet</th>\n",
       "    </tr>\n",
       "  </thead>\n",
       "  <tbody>\n",
       "    <tr>\n",
       "      <th>Python</th>\n",
       "      <td>16</td>\n",
       "      <td>17</td>\n",
       "      <td>20</td>\n",
       "    </tr>\n",
       "    <tr>\n",
       "      <th>Sql</th>\n",
       "      <td>18</td>\n",
       "      <td>17</td>\n",
       "      <td>19</td>\n",
       "    </tr>\n",
       "    <tr>\n",
       "      <th>Stats</th>\n",
       "      <td>20</td>\n",
       "      <td>20</td>\n",
       "      <td>20</td>\n",
       "    </tr>\n",
       "    <tr>\n",
       "      <th>Excel</th>\n",
       "      <td>20</td>\n",
       "      <td>20</td>\n",
       "      <td>20</td>\n",
       "    </tr>\n",
       "    <tr>\n",
       "      <th>Fp</th>\n",
       "      <td>20</td>\n",
       "      <td>20</td>\n",
       "      <td>20</td>\n",
       "    </tr>\n",
       "  </tbody>\n",
       "</table>\n",
       "</div>"
      ],
      "text/plain": [
       "        Kakul  Nitin  Suneet\n",
       "Python     16     17      20\n",
       "Sql        18     17      19\n",
       "Stats      20     20      20\n",
       "Excel      20     20      20\n",
       "Fp         20     20      20"
      ]
     },
     "execution_count": 35,
     "metadata": {},
     "output_type": "execute_result"
    }
   ],
   "source": [
    "sub[\"Suneet\"]=[20,19,20,20,20]\n",
    "sub"
   ]
  },
  {
   "cell_type": "code",
   "execution_count": 36,
   "metadata": {},
   "outputs": [
    {
     "data": {
      "text/html": [
       "<div>\n",
       "<style scoped>\n",
       "    .dataframe tbody tr th:only-of-type {\n",
       "        vertical-align: middle;\n",
       "    }\n",
       "\n",
       "    .dataframe tbody tr th {\n",
       "        vertical-align: top;\n",
       "    }\n",
       "\n",
       "    .dataframe thead th {\n",
       "        text-align: right;\n",
       "    }\n",
       "</style>\n",
       "<table border=\"1\" class=\"dataframe\">\n",
       "  <thead>\n",
       "    <tr style=\"text-align: right;\">\n",
       "      <th></th>\n",
       "      <th>Kakul</th>\n",
       "      <th>Nitin</th>\n",
       "      <th>Suneet</th>\n",
       "    </tr>\n",
       "  </thead>\n",
       "  <tbody>\n",
       "    <tr>\n",
       "      <th>Python</th>\n",
       "      <td>16</td>\n",
       "      <td>17</td>\n",
       "      <td>20</td>\n",
       "    </tr>\n",
       "    <tr>\n",
       "      <th>Sql</th>\n",
       "      <td>18</td>\n",
       "      <td>17</td>\n",
       "      <td>19</td>\n",
       "    </tr>\n",
       "    <tr>\n",
       "      <th>Stats</th>\n",
       "      <td>20</td>\n",
       "      <td>20</td>\n",
       "      <td>20</td>\n",
       "    </tr>\n",
       "    <tr>\n",
       "      <th>Excel</th>\n",
       "      <td>20</td>\n",
       "      <td>20</td>\n",
       "      <td>20</td>\n",
       "    </tr>\n",
       "    <tr>\n",
       "      <th>Fp</th>\n",
       "      <td>20</td>\n",
       "      <td>20</td>\n",
       "      <td>20</td>\n",
       "    </tr>\n",
       "    <tr>\n",
       "      <th>Total</th>\n",
       "      <td>88</td>\n",
       "      <td>89</td>\n",
       "      <td>99</td>\n",
       "    </tr>\n",
       "  </tbody>\n",
       "</table>\n",
       "</div>"
      ],
      "text/plain": [
       "        Kakul  Nitin  Suneet\n",
       "Python     16     17      20\n",
       "Sql        18     17      19\n",
       "Stats      20     20      20\n",
       "Excel      20     20      20\n",
       "Fp         20     20      20\n",
       "Total      88     89      99"
      ]
     },
     "execution_count": 36,
     "metadata": {},
     "output_type": "execute_result"
    }
   ],
   "source": [
    "sub.loc[\"Total\"]=[88,89,99]\n",
    "sub"
   ]
  },
  {
   "cell_type": "code",
   "execution_count": 37,
   "metadata": {
    "colab": {
     "base_uri": "https://localhost:8080/",
     "height": 143
    },
    "id": "WgMp1n2Cy8iR",
    "outputId": "656e38b3-748b-45a4-ef9c-0a2434329a3f"
   },
   "outputs": [
    {
     "data": {
      "text/html": [
       "<div>\n",
       "<style scoped>\n",
       "    .dataframe tbody tr th:only-of-type {\n",
       "        vertical-align: middle;\n",
       "    }\n",
       "\n",
       "    .dataframe tbody tr th {\n",
       "        vertical-align: top;\n",
       "    }\n",
       "\n",
       "    .dataframe thead th {\n",
       "        text-align: right;\n",
       "    }\n",
       "</style>\n",
       "<table border=\"1\" class=\"dataframe\">\n",
       "  <thead>\n",
       "    <tr style=\"text-align: right;\">\n",
       "      <th></th>\n",
       "      <th>Arnab</th>\n",
       "      <th>Ramit</th>\n",
       "      <th>Sahir</th>\n",
       "      <th>Riya</th>\n",
       "      <th>Mallika</th>\n",
       "      <th>Jimmy</th>\n",
       "    </tr>\n",
       "  </thead>\n",
       "  <tbody>\n",
       "    <tr>\n",
       "      <th>Maths</th>\n",
       "      <td>90</td>\n",
       "      <td>92</td>\n",
       "      <td>89</td>\n",
       "      <td>81</td>\n",
       "      <td>94</td>\n",
       "      <td>89</td>\n",
       "    </tr>\n",
       "    <tr>\n",
       "      <th>Science</th>\n",
       "      <td>91</td>\n",
       "      <td>81</td>\n",
       "      <td>91</td>\n",
       "      <td>71</td>\n",
       "      <td>95</td>\n",
       "      <td>78</td>\n",
       "    </tr>\n",
       "    <tr>\n",
       "      <th>Hindi</th>\n",
       "      <td>97</td>\n",
       "      <td>96</td>\n",
       "      <td>88</td>\n",
       "      <td>67</td>\n",
       "      <td>99</td>\n",
       "      <td>76</td>\n",
       "    </tr>\n",
       "  </tbody>\n",
       "</table>\n",
       "</div>"
      ],
      "text/plain": [
       "         Arnab  Ramit  Sahir  Riya  Mallika  Jimmy\n",
       "Maths       90     92     89    81       94     89\n",
       "Science     91     81     91    71       95     78\n",
       "Hindi       97     96     88    67       99     76"
      ]
     },
     "execution_count": 37,
     "metadata": {},
     "output_type": "execute_result"
    }
   ],
   "source": [
    "#Operations on rows and columns in DataFrames\n",
    "#Adding a New Column to a DataFrame\n",
    "ResultDF['Jimmy']=[89,78,76]\n",
    "ResultDF"
   ]
  },
  {
   "cell_type": "code",
   "execution_count": 38,
   "metadata": {
    "colab": {
     "base_uri": "https://localhost:8080/",
     "height": 175
    },
    "id": "RhhnX8qjzMYt",
    "outputId": "225aa194-942b-4be2-8d46-361cb5d5fa6f"
   },
   "outputs": [
    {
     "data": {
      "text/html": [
       "<div>\n",
       "<style scoped>\n",
       "    .dataframe tbody tr th:only-of-type {\n",
       "        vertical-align: middle;\n",
       "    }\n",
       "\n",
       "    .dataframe tbody tr th {\n",
       "        vertical-align: top;\n",
       "    }\n",
       "\n",
       "    .dataframe thead th {\n",
       "        text-align: right;\n",
       "    }\n",
       "</style>\n",
       "<table border=\"1\" class=\"dataframe\">\n",
       "  <thead>\n",
       "    <tr style=\"text-align: right;\">\n",
       "      <th></th>\n",
       "      <th>Arnab</th>\n",
       "      <th>Ramit</th>\n",
       "      <th>Sahir</th>\n",
       "      <th>Riya</th>\n",
       "      <th>Mallika</th>\n",
       "      <th>Jimmy</th>\n",
       "    </tr>\n",
       "  </thead>\n",
       "  <tbody>\n",
       "    <tr>\n",
       "      <th>Maths</th>\n",
       "      <td>90</td>\n",
       "      <td>92</td>\n",
       "      <td>89</td>\n",
       "      <td>81</td>\n",
       "      <td>94</td>\n",
       "      <td>89</td>\n",
       "    </tr>\n",
       "    <tr>\n",
       "      <th>Science</th>\n",
       "      <td>91</td>\n",
       "      <td>81</td>\n",
       "      <td>91</td>\n",
       "      <td>71</td>\n",
       "      <td>95</td>\n",
       "      <td>78</td>\n",
       "    </tr>\n",
       "    <tr>\n",
       "      <th>Hindi</th>\n",
       "      <td>97</td>\n",
       "      <td>96</td>\n",
       "      <td>88</td>\n",
       "      <td>67</td>\n",
       "      <td>99</td>\n",
       "      <td>76</td>\n",
       "    </tr>\n",
       "    <tr>\n",
       "      <th>English</th>\n",
       "      <td>85</td>\n",
       "      <td>86</td>\n",
       "      <td>83</td>\n",
       "      <td>80</td>\n",
       "      <td>90</td>\n",
       "      <td>89</td>\n",
       "    </tr>\n",
       "  </tbody>\n",
       "</table>\n",
       "</div>"
      ],
      "text/plain": [
       "         Arnab  Ramit  Sahir  Riya  Mallika  Jimmy\n",
       "Maths       90     92     89    81       94     89\n",
       "Science     91     81     91    71       95     78\n",
       "Hindi       97     96     88    67       99     76\n",
       "English     85     86     83    80       90     89"
      ]
     },
     "execution_count": 38,
     "metadata": {},
     "output_type": "execute_result"
    }
   ],
   "source": [
    "#Adding a New Row to a DataFrame\n",
    "#DataFRame.loc[] method can also be used to change the data values of a row to a particular value.\n",
    "ResultDF.loc['English'] = [85, 86, 83, 80, 90, 89]\n",
    "ResultDF"
   ]
  },
  {
   "cell_type": "code",
   "execution_count": 39,
   "metadata": {
    "colab": {
     "base_uri": "https://localhost:8080/",
     "height": 143
    },
    "id": "NLQWMtHlzlz0",
    "outputId": "7fa25dcf-e5cd-458d-9467-10e685138da1"
   },
   "outputs": [
    {
     "data": {
      "text/html": [
       "<div>\n",
       "<style scoped>\n",
       "    .dataframe tbody tr th:only-of-type {\n",
       "        vertical-align: middle;\n",
       "    }\n",
       "\n",
       "    .dataframe tbody tr th {\n",
       "        vertical-align: top;\n",
       "    }\n",
       "\n",
       "    .dataframe thead th {\n",
       "        text-align: right;\n",
       "    }\n",
       "</style>\n",
       "<table border=\"1\" class=\"dataframe\">\n",
       "  <thead>\n",
       "    <tr style=\"text-align: right;\">\n",
       "      <th></th>\n",
       "      <th>Arnab</th>\n",
       "      <th>Ramit</th>\n",
       "      <th>Sahir</th>\n",
       "      <th>Riya</th>\n",
       "      <th>Mallika</th>\n",
       "      <th>Jimmy</th>\n",
       "    </tr>\n",
       "  </thead>\n",
       "  <tbody>\n",
       "    <tr>\n",
       "      <th>Maths</th>\n",
       "      <td>90</td>\n",
       "      <td>92</td>\n",
       "      <td>89</td>\n",
       "      <td>81</td>\n",
       "      <td>94</td>\n",
       "      <td>89</td>\n",
       "    </tr>\n",
       "    <tr>\n",
       "      <th>Hindi</th>\n",
       "      <td>97</td>\n",
       "      <td>96</td>\n",
       "      <td>88</td>\n",
       "      <td>67</td>\n",
       "      <td>99</td>\n",
       "      <td>76</td>\n",
       "    </tr>\n",
       "    <tr>\n",
       "      <th>English</th>\n",
       "      <td>85</td>\n",
       "      <td>86</td>\n",
       "      <td>83</td>\n",
       "      <td>80</td>\n",
       "      <td>90</td>\n",
       "      <td>89</td>\n",
       "    </tr>\n",
       "  </tbody>\n",
       "</table>\n",
       "</div>"
      ],
      "text/plain": [
       "         Arnab  Ramit  Sahir  Riya  Mallika  Jimmy\n",
       "Maths       90     92     89    81       94     89\n",
       "Hindi       97     96     88    67       99     76\n",
       "English     85     86     83    80       90     89"
      ]
     },
     "execution_count": 39,
     "metadata": {},
     "output_type": "execute_result"
    }
   ],
   "source": [
    "#Deleting Rows or Columns from a DataFrame\n",
    "#delete the row with label 'Science'\n",
    "ResultDF = ResultDF.drop('Science', axis=0)\n",
    "ResultDF"
   ]
  },
  {
   "cell_type": "code",
   "execution_count": 40,
   "metadata": {
    "colab": {
     "base_uri": "https://localhost:8080/",
     "height": 143
    },
    "id": "f5jeSVzV1IXL",
    "outputId": "1982a729-88bb-4de3-f5c0-b81deb4295c0"
   },
   "outputs": [
    {
     "data": {
      "text/html": [
       "<div>\n",
       "<style scoped>\n",
       "    .dataframe tbody tr th:only-of-type {\n",
       "        vertical-align: middle;\n",
       "    }\n",
       "\n",
       "    .dataframe tbody tr th {\n",
       "        vertical-align: top;\n",
       "    }\n",
       "\n",
       "    .dataframe thead th {\n",
       "        text-align: right;\n",
       "    }\n",
       "</style>\n",
       "<table border=\"1\" class=\"dataframe\">\n",
       "  <thead>\n",
       "    <tr style=\"text-align: right;\">\n",
       "      <th></th>\n",
       "      <th>Arnab</th>\n",
       "      <th>Sahir</th>\n",
       "      <th>Mallika</th>\n",
       "      <th>Jimmy</th>\n",
       "    </tr>\n",
       "  </thead>\n",
       "  <tbody>\n",
       "    <tr>\n",
       "      <th>Maths</th>\n",
       "      <td>90</td>\n",
       "      <td>89</td>\n",
       "      <td>94</td>\n",
       "      <td>89</td>\n",
       "    </tr>\n",
       "    <tr>\n",
       "      <th>Hindi</th>\n",
       "      <td>97</td>\n",
       "      <td>88</td>\n",
       "      <td>99</td>\n",
       "      <td>76</td>\n",
       "    </tr>\n",
       "    <tr>\n",
       "      <th>English</th>\n",
       "      <td>85</td>\n",
       "      <td>83</td>\n",
       "      <td>90</td>\n",
       "      <td>89</td>\n",
       "    </tr>\n",
       "  </tbody>\n",
       "</table>\n",
       "</div>"
      ],
      "text/plain": [
       "         Arnab  Sahir  Mallika  Jimmy\n",
       "Maths       90     89       94     89\n",
       "Hindi       97     88       99     76\n",
       "English     85     83       90     89"
      ]
     },
     "execution_count": 40,
     "metadata": {},
     "output_type": "execute_result"
    }
   ],
   "source": [
    "#Delete the columns having labels  'Ramit' and 'Riya':\n",
    "\n",
    "ResultDF = ResultDF.drop(['Ramit','Riya'], axis=1)\n",
    "ResultDF"
   ]
  },
  {
   "cell_type": "code",
   "execution_count": 41,
   "metadata": {
    "colab": {
     "base_uri": "https://localhost:8080/"
    },
    "id": "A57WFCch1b-c",
    "outputId": "85a77c20-fed5-4093-ed64-c1c8f9ce6cbf"
   },
   "outputs": [
    {
     "name": "stdout",
     "output_type": "stream",
     "text": [
      "      Arnab  Sahir  Mallika  Jimmy\n",
      "Sub1     90     89       94     89\n",
      "Sub4     97     88       99     76\n",
      "Sub3     85     83       90     89\n"
     ]
    }
   ],
   "source": [
    "#Renaming Row Labels of a DataFrame\n",
    "#To rename the row indices Maths to sub1, Science to sub2, Hindi to sub3 and English to sub4 we can write the following statement:\n",
    "ResultDF=ResultDF.rename({'Maths':'Sub1','English':'Sub3','Hindi':'Sub4'}, axis='index')\n",
    "print(ResultDF)"
   ]
  },
  {
   "cell_type": "code",
   "execution_count": 42,
   "metadata": {
    "colab": {
     "base_uri": "https://localhost:8080/",
     "height": 241
    },
    "id": "06ez991s19Hu",
    "outputId": "1d58a16f-db3f-4c4b-932d-0ed6d0f135bc"
   },
   "outputs": [
    {
     "data": {
      "text/plain": [
       "Arnab      85\n",
       "Sahir      83\n",
       "Mallika    90\n",
       "Jimmy      89\n",
       "Name: Sub3, dtype: int64"
      ]
     },
     "execution_count": 42,
     "metadata": {},
     "output_type": "execute_result"
    }
   ],
   "source": [
    "#Accessing DataFrames Element through Indexing\n",
    "#Label Based Indexing\n",
    "ResultDF.loc['Sub3']"
   ]
  },
  {
   "cell_type": "code",
   "execution_count": 43,
   "metadata": {
    "colab": {
     "base_uri": "https://localhost:8080/",
     "height": 112
    },
    "id": "RZ-teXBl2W_o",
    "outputId": "48af46d8-3468-48fb-e288-29a595f3cfe9"
   },
   "outputs": [
    {
     "data": {
      "text/html": [
       "<div>\n",
       "<style scoped>\n",
       "    .dataframe tbody tr th:only-of-type {\n",
       "        vertical-align: middle;\n",
       "    }\n",
       "\n",
       "    .dataframe tbody tr th {\n",
       "        vertical-align: top;\n",
       "    }\n",
       "\n",
       "    .dataframe thead th {\n",
       "        text-align: right;\n",
       "    }\n",
       "</style>\n",
       "<table border=\"1\" class=\"dataframe\">\n",
       "  <thead>\n",
       "    <tr style=\"text-align: right;\">\n",
       "      <th></th>\n",
       "      <th>Arnab</th>\n",
       "      <th>Sahir</th>\n",
       "      <th>Mallika</th>\n",
       "      <th>Jimmy</th>\n",
       "    </tr>\n",
       "  </thead>\n",
       "  <tbody>\n",
       "    <tr>\n",
       "      <th>Sub1</th>\n",
       "      <td>90</td>\n",
       "      <td>89</td>\n",
       "      <td>94</td>\n",
       "      <td>89</td>\n",
       "    </tr>\n",
       "    <tr>\n",
       "      <th>Sub4</th>\n",
       "      <td>97</td>\n",
       "      <td>88</td>\n",
       "      <td>99</td>\n",
       "      <td>76</td>\n",
       "    </tr>\n",
       "  </tbody>\n",
       "</table>\n",
       "</div>"
      ],
      "text/plain": [
       "      Arnab  Sahir  Mallika  Jimmy\n",
       "Sub1     90     89       94     89\n",
       "Sub4     97     88       99     76"
      ]
     },
     "execution_count": 43,
     "metadata": {},
     "output_type": "execute_result"
    }
   ],
   "source": [
    "ResultDF.loc['Sub1': 'Sub4']"
   ]
  },
  {
   "cell_type": "code",
   "execution_count": null,
   "metadata": {
    "id": "r6b5X0Hn24vR"
   },
   "outputs": [],
   "source": []
  }
 ],
 "metadata": {
  "colab": {
   "provenance": []
  },
  "kernelspec": {
   "display_name": "Python 3 (ipykernel)",
   "language": "python",
   "name": "python3"
  },
  "language_info": {
   "codemirror_mode": {
    "name": "ipython",
    "version": 3
   },
   "file_extension": ".py",
   "mimetype": "text/x-python",
   "name": "python",
   "nbconvert_exporter": "python",
   "pygments_lexer": "ipython3",
   "version": "3.12.4"
  }
 },
 "nbformat": 4,
 "nbformat_minor": 4
}
