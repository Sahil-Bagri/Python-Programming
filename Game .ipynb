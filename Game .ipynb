{
 "cells": [
  {
   "cell_type": "code",
   "execution_count": 5,
   "id": "9ba81aec-9324-46c9-a522-99e538597f59",
   "metadata": {},
   "outputs": [
    {
     "name": "stdout",
     "output_type": "stream",
     "text": [
      "What is the best anime among these?\n",
      "A. Bleach\n",
      "B. Black Clover\n",
      "C. Spy x Family\n",
      "D. weathering with you\n"
     ]
    },
    {
     "name": "stdin",
     "output_type": "stream",
     "text": [
      "Enter your answer (A, B, C, or D):  A\n"
     ]
    },
    {
     "name": "stdout",
     "output_type": "stream",
     "text": [
      "Correct!\n",
      "\n",
      "Which is the highest IMDB rating movie\n",
      "A. Arora\n",
      "B. Dune: Part two \n",
      "C. Wricked\n",
      "D. The wild rorbot\n"
     ]
    },
    {
     "name": "stdin",
     "output_type": "stream",
     "text": [
      "Enter your answer (A, B, C, or D):  B\n"
     ]
    },
    {
     "name": "stdout",
     "output_type": "stream",
     "text": [
      "Correct!\n",
      "\n",
      "What is the smallest odd prime number?\n",
      "A. 1\n",
      "B. 2\n",
      "C. 3\n",
      "D. 5\n"
     ]
    },
    {
     "name": "stdin",
     "output_type": "stream",
     "text": [
      "Enter your answer (A, B, C, or D):  C\n"
     ]
    },
    {
     "name": "stdout",
     "output_type": "stream",
     "text": [
      "Correct!\n",
      "\n",
      "Who wrote 'To Kill a Mockingbird'?\n",
      "A. Harper Lee\n",
      "B. Mark Twain\n",
      "C. J.K. Rowling\n",
      "D. Ernest Hemingway\n"
     ]
    },
    {
     "name": "stdin",
     "output_type": "stream",
     "text": [
      "Enter your answer (A, B, C, or D):  A\n"
     ]
    },
    {
     "name": "stdout",
     "output_type": "stream",
     "text": [
      "Correct!\n",
      "\n",
      "You got 4 out of 4 questions correct.\n"
     ]
    }
   ],
   "source": [
    "def run_quiz(questions):\n",
    "    score = 0\n",
    "    for question in questions:\n",
    "        print(question[\"prompt\"])\n",
    "        for option in question[\"options\"]:\n",
    "            print(option)\n",
    "        answer = input(\"Enter your answer (A, B, C, or D): \").upper()\n",
    "        if answer == question[\"answer\"]:\n",
    "            print(\"Correct!\\n\")\n",
    "            score += 1\n",
    "        else:\n",
    "            print(\"Wrong! The correct answer was\", question[\"answer\"], \"\\n\")\n",
    "    print(f\"You got {score} out of {len(questions)} questions correct.\")\n",
    "\n",
    "# This is the list of quiz questions. \n",
    "questions = [\n",
    "    {\n",
    "        \"prompt\": \"What is the best anime among these?\",\n",
    "        \"options\": [\"A. Bleach\", \"B. Black Clover\", \"C. Spy x Family\", \"D. weathering with you\"],\n",
    "        \"answer\": \"A\"\n",
    "    },\n",
    "    {\n",
    "        \"prompt\": \"Which is the highest IMDB rating movie\",\n",
    "        \"options\": [\"A. Arora\", \"B. Dune: Part two \", \"C. Wricked\", \"D. The wild rorbot\"],\n",
    "        \"answer\": \"B\"\n",
    "    },\n",
    "    {\n",
    "        \"prompt\": \"What is the smallest odd prime number?\",\n",
    "        \"options\": [\"A. 1\", \"B. 2\", \"C. 3\", \"D. 5\"],\n",
    "        \"answer\": \"C\"\n",
    "    },\n",
    "    {\n",
    "        \"prompt\": \"Who wrote 'To Kill a Mockingbird'?\",\n",
    "        \"options\": [\"A. Harper Lee\", \"B. Mark Twain\", \"C. J.K. Rowling\", \"D. Ernest Hemingway\"],\n",
    "        \"answer\": \"A\"\n",
    "    }\n",
    "]\n",
    "\n",
    "run_quiz(questions)"
   ]
  }
 ],
 "metadata": {
  "kernelspec": {
   "display_name": "Python 3 (ipykernel)",
   "language": "python",
   "name": "python3"
  },
  "language_info": {
   "codemirror_mode": {
    "name": "ipython",
    "version": 3
   },
   "file_extension": ".py",
   "mimetype": "text/x-python",
   "name": "python",
   "nbconvert_exporter": "python",
   "pygments_lexer": "ipython3",
   "version": "3.12.4"
  }
 },
 "nbformat": 4,
 "nbformat_minor": 5
}
