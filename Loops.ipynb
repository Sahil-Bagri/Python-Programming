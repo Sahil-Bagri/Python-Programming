{
 "cells": [
  {
   "cell_type": "markdown",
   "id": "8be0c829-6c21-4c47-ad93-ce97621c7dd4",
   "metadata": {},
   "source": [
    "# Loops"
   ]
  },
  {
   "cell_type": "markdown",
   "id": "6cb89d5f-c30e-4538-a8f9-15f0b6c713d3",
   "metadata": {},
   "source": [
    "For loop\n",
    "It is used to iterate over a sequence (like a list, tuple, or string ) or other iterable objects. Iterating over a sequence means going through each element one by one"
   ]
  },
  {
   "cell_type": "markdown",
   "id": "4160a5c2-c1bd-4873-905d-92339d782622",
   "metadata": {},
   "source": [
    "# For loop"
   ]
  },
  {
   "cell_type": "code",
   "execution_count": 3,
   "id": "653c7b29-5119-4124-9402-668fff1f5a52",
   "metadata": {},
   "outputs": [
    {
     "name": "stdout",
     "output_type": "stream",
     "text": [
      "micky\n",
      "ken-chin\n",
      "baji\n",
      "age\n"
     ]
    }
   ],
   "source": [
    "toman={\"micky\":\"leader\",\"ken-chin\":\"president\",\"baji\":\"1st-devvision\",\"age\":[15,19,18,17]}\n",
    "for toman in toman:\n",
    "  print(toman)"
   ]
  },
  {
   "cell_type": "code",
   "execution_count": 4,
   "id": "e1531fc2-6b8d-4460-b2c6-009688e33d42",
   "metadata": {},
   "outputs": [
    {
     "name": "stdout",
     "output_type": "stream",
     "text": [
      "micky\n",
      "ken-chin\n",
      "baji\n",
      "takemitchy\n"
     ]
    }
   ],
   "source": [
    "toman=(\"micky\",\"ken-chin\",\"baji\",\"takemitchy\")\n",
    "for toman in toman:\n",
    "  print(toman)"
   ]
  },
  {
   "cell_type": "code",
   "execution_count": 5,
   "id": "b1aa1b11-641c-4be8-bc37-776839da6a34",
   "metadata": {},
   "outputs": [
    {
     "name": "stdout",
     "output_type": "stream",
     "text": [
      "0\n",
      "1\n",
      "2\n",
      "3\n",
      "4\n",
      "5\n",
      "6\n",
      "7\n",
      "8\n",
      "9\n",
      "10\n",
      "11\n",
      "12\n",
      "13\n",
      "14\n",
      "15\n",
      "16\n",
      "17\n",
      "18\n",
      "19\n"
     ]
    }
   ],
   "source": [
    "for x in range(20):\n",
    "  print(x)"
   ]
  },
  {
   "cell_type": "code",
   "execution_count": 6,
   "id": "a2793ff6-bcfb-45f0-b880-c2f9fcf01c05",
   "metadata": {},
   "outputs": [
    {
     "name": "stdout",
     "output_type": "stream",
     "text": [
      "T\n",
      "o\n",
      "m\n",
      "a\n",
      "n\n"
     ]
    }
   ],
   "source": [
    "for Characters in \"Toman\":\n",
    "  print(Characters)"
   ]
  },
  {
   "cell_type": "code",
   "execution_count": 7,
   "id": "67be97ed-6a8f-4168-a568-77f86d6de4e2",
   "metadata": {},
   "outputs": [
    {
     "name": "stdout",
     "output_type": "stream",
     "text": [
      "Sum of  no's square is 225\n"
     ]
    }
   ],
   "source": [
    "#print square of all numbers in a list\n",
    "x=[1,2,3,4,5]\n",
    "y=0\n",
    "for x in x:\n",
    "  y+=x\n",
    "print(\"Sum of  no's square is\",y**2)"
   ]
  },
  {
   "cell_type": "code",
   "execution_count": 8,
   "id": "0d2b2e89-120e-42f4-a185-3bb632b16658",
   "metadata": {},
   "outputs": [
    {
     "name": "stdout",
     "output_type": "stream",
     "text": [
      "Square of no  11  is 121\n",
      "Square of no  22  is 484\n",
      "Square of no  33  is 1089\n",
      "Square of no  44  is 1936\n",
      "Square of no  55  is 3025\n"
     ]
    }
   ],
   "source": [
    "# Print square root of the list\n",
    "x=[11,22,33,44,55]\n",
    "for x in x:\n",
    "    print(\"Square of no \",x,\" is\", x**2)"
   ]
  },
  {
   "cell_type": "code",
   "execution_count": 9,
   "id": "ff704ef5-68ed-4784-96bb-73b4cd8122d1",
   "metadata": {},
   "outputs": [
    {
     "name": "stdout",
     "output_type": "stream",
     "text": [
      "Awesome buddy 5\n",
      "Nothing 6\n",
      "Awesome buddy 7\n",
      "Good luck 5\n",
      "Awesome buddy 9\n",
      "Nothing 10\n",
      "Awesome buddy 11\n",
      "Nothing 12\n",
      "Awesome buddy 13\n",
      "Good luck 11\n"
     ]
    }
   ],
   "source": [
    "x=20\n",
    "for x in range(0,10):\n",
    "  if x%2==0:\n",
    "    print(\"Awesome buddy\",x+5)\n",
    "  elif x%3==0:\n",
    "    print(\"Good luck\",x+2)\n",
    "  else:\n",
    "    print(\"Nothing\",x+5,)"
   ]
  },
  {
   "cell_type": "code",
   "execution_count": 10,
   "id": "6526f06d-7cf0-4528-9125-2c6243f7db35",
   "metadata": {},
   "outputs": [
    {
     "name": "stdout",
     "output_type": "stream",
     "text": [
      "the no is  67\n"
     ]
    }
   ],
   "source": [
    "x=[4535,67,43534]\n",
    "y=0\n",
    "z=''\n",
    "for z in x:\n",
    "  y=x.sort( reverse= True)\n",
    "  y=z\n",
    "  if y<z:\n",
    "    pass\n",
    "print(\"the no is \" ,y)"
   ]
  },
  {
   "cell_type": "code",
   "execution_count": 11,
   "id": "5844db61-3138-47b5-b8bf-a0f4febff7a2",
   "metadata": {},
   "outputs": [
    {
     "name": "stdout",
     "output_type": "stream",
     "text": [
      "20\n"
     ]
    }
   ],
   "source": [
    "X=[1,2,3,12,4,5,6,7,20,8,9,10]\n",
    "max=X[0]\n",
    "for x in X:\n",
    "  if x>max:\n",
    "    max=x\n",
    "print(max)"
   ]
  },
  {
   "cell_type": "code",
   "execution_count": 12,
   "id": "c046f51b-3508-44ee-9f3c-bafe95334675",
   "metadata": {},
   "outputs": [
    {
     "name": "stdout",
     "output_type": "stream",
     "text": [
      "23432\n"
     ]
    }
   ],
   "source": [
    "x=[233,334,32,23432,3423,3,4,3432]\n",
    "c=x[0]\n",
    "for i in x:\n",
    "  if i>c:\n",
    "    c=i\n",
    "print(c)"
   ]
  },
  {
   "cell_type": "code",
   "execution_count": 13,
   "id": "3c0e1d41-b529-4ae6-987e-19f2a4b29163",
   "metadata": {},
   "outputs": [
    {
     "name": "stdout",
     "output_type": "stream",
     "text": [
      "Jo number hai na vo hai 5 position mai\n"
     ]
    }
   ],
   "source": [
    "#Position of the number\n",
    "x=[1,323,4534,234,453,5546,46,43,6,3,4,123,]\n",
    "z=5546\n",
    "m=0\n",
    "for y in x:\n",
    " if (y==z):\n",
    "   print(\"Jo number hai na vo hai\", m,\"position mai\")\n",
    " m+=1"
   ]
  },
  {
   "cell_type": "code",
   "execution_count": null,
   "id": "d22dfab7-d772-4ad1-9646-7649cdf4509c",
   "metadata": {},
   "outputs": [],
   "source": []
  },
  {
   "cell_type": "code",
   "execution_count": 15,
   "id": "26c67f0b-563e-439e-aed5-ca65a923cdd2",
   "metadata": {},
   "outputs": [
    {
     "name": "stdin",
     "output_type": "stream",
     "text": [
      "enter a number 3\n"
     ]
    },
    {
     "name": "stdout",
     "output_type": "stream",
     "text": [
      "6\n"
     ]
    }
   ],
   "source": [
    "# print program to sum of all the numbers from 1 to any number\n",
    "n= int(input(\"enter a number\"))\n",
    "x=0\n",
    "for i in range(1,n+1):\n",
    "  x+=i\n",
    "print(x)"
   ]
  },
  {
   "cell_type": "code",
   "execution_count": 16,
   "id": "ebf4599d-2134-46c2-836c-b8ace16eb98c",
   "metadata": {},
   "outputs": [
    {
     "name": "stdin",
     "output_type": "stream",
     "text": [
      "enter a number  12\n"
     ]
    },
    {
     "name": "stdout",
     "output_type": "stream",
     "text": [
      "table of  12 is  12 x 1 = 12\n",
      "table of  12 is  12 x 2 = 24\n",
      "table of  12 is  12 x 3 = 36\n",
      "table of  12 is  12 x 4 = 48\n",
      "table of  12 is  12 x 5 = 60\n",
      "table of  12 is  12 x 6 = 72\n",
      "table of  12 is  12 x 7 = 84\n",
      "table of  12 is  12 x 8 = 96\n",
      "table of  12 is  12 x 9 = 108\n",
      "table of  12 is  12 x 10 = 120\n"
     ]
    }
   ],
   "source": [
    "#Print multiplication table of any number\n",
    "n= int(input(\"enter a number \"))\n",
    "for x in range(1,11):\n",
    "  print(\"table of \", n, \"is \", n,\"x\",x,\"=\",n*x)\n",
    "  x+=1"
   ]
  },
  {
   "cell_type": "code",
   "execution_count": 17,
   "id": "40a91315-37b0-4267-9472-51b4b547f4b5",
   "metadata": {},
   "outputs": [
    {
     "name": "stdout",
     "output_type": "stream",
     "text": [
      "9\n"
     ]
    }
   ],
   "source": [
    "#Count no of digits in a number\n",
    "x=324324324\n",
    "x= str(x)\n",
    "count=0\n",
    "for i in x:\n",
    "  count+=1\n",
    "print(count) #we cannot iterate over an iteger means we cannot perform any for loop function on that,we have to convert integer to string "
   ]
  },
  {
   "cell_type": "code",
   "execution_count": 18,
   "id": "4e876a21-d06a-4ebb-a2be-0df963bfc56a",
   "metadata": {},
   "outputs": [
    {
     "name": "stdout",
     "output_type": "stream",
     "text": [
      "yhi hai  113311  palindrome\n"
     ]
    }
   ],
   "source": [
    "#print palindorme\n",
    "x = '113311'\n",
    "z = ''\n",
    "for i in x:\n",
    "  z = i + z\n",
    "if(x == z ):\n",
    "     print(\"yhi hai \",x,\" palindrome\")\n",
    "else:\n",
    "     print(\"ye nhi hai \",x,\" palindrome\")"
   ]
  },
  {
   "cell_type": "code",
   "execution_count": 40,
   "id": "60468c39-50a6-4cd2-a24c-294e2564d57f",
   "metadata": {},
   "outputs": [],
   "source": [
    "#print all even no between 1to 50 & odd also"
   ]
  },
  {
   "cell_type": "code",
   "execution_count": 46,
   "id": "c11bcc77-afeb-40c2-9a74-0c689c0a0d08",
   "metadata": {},
   "outputs": [
    {
     "name": "stdout",
     "output_type": "stream",
     "text": [
      "2\n",
      "4\n",
      "6\n",
      "8\n",
      "10\n",
      "12\n",
      "14\n",
      "16\n",
      "18\n",
      "20\n",
      "22\n",
      "24\n",
      "26\n",
      "28\n",
      "30\n",
      "32\n",
      "34\n",
      "36\n",
      "38\n",
      "40\n",
      "42\n",
      "44\n",
      "46\n",
      "48\n",
      "50\n"
     ]
    }
   ],
   "source": [
    "for i in range(1,51):\n",
    "    if i%2==0:\n",
    "        print(i)"
   ]
  },
  {
   "cell_type": "code",
   "execution_count": 48,
   "id": "2ea12bd9-b679-4ca9-885f-2265825957ae",
   "metadata": {},
   "outputs": [
    {
     "name": "stdout",
     "output_type": "stream",
     "text": [
      "1\n",
      "3\n",
      "5\n",
      "7\n",
      "9\n",
      "11\n",
      "13\n",
      "15\n",
      "17\n",
      "19\n",
      "21\n",
      "23\n",
      "25\n",
      "27\n",
      "29\n",
      "31\n",
      "33\n",
      "35\n",
      "37\n",
      "39\n",
      "41\n",
      "43\n",
      "45\n",
      "47\n",
      "49\n"
     ]
    }
   ],
   "source": [
    "for i in range(1,51):\n",
    "    if i%2!=0:\n",
    "        print(i)"
   ]
  },
  {
   "cell_type": "code",
   "execution_count": 73,
   "id": "b979a117-6ce3-4903-b407-dfd5cf16d96e",
   "metadata": {},
   "outputs": [
    {
     "name": "stdin",
     "output_type": "stream",
     "text": [
      "enter a number 51\n"
     ]
    },
    {
     "name": "stdout",
     "output_type": "stream",
     "text": [
      "650\n"
     ]
    }
   ],
   "source": [
    "n= int(input(\"enter a number\"))\n",
    "x=0\n",
    "for i in range(1,n+1):\n",
    "    if i%2==0:\n",
    "        x+=i\n",
    "print(x)"
   ]
  },
  {
   "cell_type": "code",
   "execution_count": 93,
   "id": "bb1780d2-8b53-43f4-984b-a6367221670f",
   "metadata": {},
   "outputs": [
    {
     "name": "stdout",
     "output_type": "stream",
     "text": [
      "6\n"
     ]
    }
   ],
   "source": [
    "#count a vowel through a string\n",
    "x=\"naman Singh chauhan\"\n",
    "y=\"aeiou\"\n",
    "z=0\n",
    "for i in x:\n",
    "    if i in y:\n",
    "        z=z+1\n",
    "print(z)"
   ]
  },
  {
   "cell_type": "code",
   "execution_count": 95,
   "id": "e92a18a8-61e8-45b0-a164-42d90315b7b9",
   "metadata": {},
   "outputs": [
    {
     "name": "stdout",
     "output_type": "stream",
     "text": [
      "3\n"
     ]
    }
   ],
   "source": [
    "x=[\"a\",\"e\",\"i\",\"o\",\"u\"]\n",
    "y=\"naman singh chauhan\"\n",
    "z=0\n",
    "for i in x:\n",
    "    if i in y:\n",
    "        z=z+1\n",
    "print(z)"
   ]
  },
  {
   "cell_type": "code",
   "execution_count": 99,
   "id": "75f2bfa5-2b4b-44cf-bc3d-ea6cda49bb2b",
   "metadata": {},
   "outputs": [
    {
     "name": "stdout",
     "output_type": "stream",
     "text": [
      "0\n",
      "1\n",
      "2\n"
     ]
    }
   ],
   "source": [
    "x=[\"a\",\"e\",\"i\",\"o\",\"u\"]\n",
    "y=\"naman singh chauhan\"\n",
    "z=0\n",
    "for i in x:\n",
    "    if i in y:\n",
    "       print(z)\n",
    "       z=z+1"
   ]
  },
  {
   "cell_type": "code",
   "execution_count": 111,
   "id": "7b913525-bfae-41e5-83b8-5c002aaec78d",
   "metadata": {},
   "outputs": [
    {
     "name": "stdout",
     "output_type": "stream",
     "text": [
      "15\n",
      "30\n",
      "45\n"
     ]
    }
   ],
   "source": [
    "#print no divisile by 3and 5 from 1 to 50\n",
    "for i in range(1,51):\n",
    "    if i%3==0 and i%5==0:\n",
    "        print(i)"
   ]
  },
  {
   "cell_type": "code",
   "execution_count": 115,
   "id": "c2ed5e40-d21c-47b2-a939-8a8a376bd53c",
   "metadata": {},
   "outputs": [
    {
     "name": "stdout",
     "output_type": "stream",
     "text": [
      "the no is  100\n"
     ]
    }
   ],
   "source": [
    "x=[10,20,30,40,50,60,70,80,90,100]\n",
    "y=0\n",
    "z=''\n",
    "for z in x:\n",
    "  y=x.sort()\n",
    "  y=z\n",
    "  if y<z:\n",
    "    pass\n",
    "print(\"the no is \" ,y)"
   ]
  },
  {
   "cell_type": "code",
   "execution_count": 127,
   "id": "cf6d1e13-2a16-42a8-ac92-44b422a89969",
   "metadata": {},
   "outputs": [
    {
     "name": "stdout",
     "output_type": "stream",
     "text": [
      "10\n",
      "9\n",
      "8\n",
      "7\n",
      "6\n",
      "5\n",
      "4\n",
      "3\n",
      "2\n",
      "1\n"
     ]
    }
   ],
   "source": [
    "for z in range(10,0,-1):\n",
    "    print(z)"
   ]
  },
  {
   "cell_type": "markdown",
   "id": "48177a5a-5717-4464-885e-770c13e857e4",
   "metadata": {},
   "source": [
    "# While loop"
   ]
  },
  {
   "cell_type": "code",
   "execution_count": 2,
   "id": "c608e402-c36a-496b-b6b6-6be6d34e10a4",
   "metadata": {},
   "outputs": [
    {
     "name": "stdout",
     "output_type": "stream",
     "text": [
      "1\n",
      "3\n",
      "4\n",
      "5\n"
     ]
    }
   ],
   "source": [
    "i=0\n",
    "while i<5:\n",
    "    i+=1\n",
    "    if i==2:\n",
    "        continue\n",
    "    print(i)"
   ]
  },
  {
   "cell_type": "code",
   "execution_count": 4,
   "id": "b10cf43b-25e6-4cc8-b916-2a11df6a86e3",
   "metadata": {},
   "outputs": [
    {
     "name": "stdout",
     "output_type": "stream",
     "text": [
      "2\n",
      "4\n",
      "6\n",
      "8\n",
      "10\n",
      "12\n",
      "14\n",
      "16\n",
      "18\n",
      "20\n"
     ]
    }
   ],
   "source": [
    "x=0\n",
    "while x<20:\n",
    "    x+=2\n",
    "    print(x)"
   ]
  },
  {
   "cell_type": "code",
   "execution_count": 6,
   "id": "54454e0d-4eb1-4983-9a9b-ed5a8747c0ff",
   "metadata": {},
   "outputs": [
    {
     "name": "stdout",
     "output_type": "stream",
     "text": [
      "45\n"
     ]
    }
   ],
   "source": [
    "x=0\n",
    "y=1\n",
    "while y<10:\n",
    "    x+=y\n",
    "    y+=1\n",
    "print(x)"
   ]
  },
  {
   "cell_type": "code",
   "execution_count": 8,
   "id": "5b5dfcaf-afb5-43fd-9ade-4d13be1633ac",
   "metadata": {},
   "outputs": [
    {
     "name": "stdout",
     "output_type": "stream",
     "text": [
      "\n",
      "*\n",
      "**\n",
      "***\n",
      "****\n",
      "*****\n"
     ]
    }
   ],
   "source": [
    "for i in range(6):\n",
    "    print(\"*\"*i)"
   ]
  },
  {
   "cell_type": "code",
   "execution_count": 38,
   "id": "e2a17d90-3c15-4f6d-8b9b-be332f3495b5",
   "metadata": {},
   "outputs": [
    {
     "name": "stdout",
     "output_type": "stream",
     "text": [
      "0\n",
      "1\n",
      "2\n",
      "3\n",
      "4\n",
      "5\n",
      "6\n",
      "7\n",
      "8\n",
      "9\n"
     ]
    }
   ],
   "source": [
    "x=0\n",
    "while x<10:\n",
    "    print(x)\n",
    "    x+=1"
   ]
  },
  {
   "cell_type": "code",
   "execution_count": 10,
   "id": "2fe11500-cb5e-497b-97a3-a25833ef50a3",
   "metadata": {},
   "outputs": [
    {
     "name": "stdout",
     "output_type": "stream",
     "text": [
      "\n",
      "*\n",
      "**\n",
      "***\n",
      "****\n",
      "*****\n"
     ]
    }
   ],
   "source": [
    "x=(\"*\")\n",
    "i=0\n",
    "while i<6:\n",
    "    print(x*i)\n",
    "    i+=1"
   ]
  },
  {
   "cell_type": "code",
   "execution_count": 12,
   "id": "1d216a4c-7e6f-4125-a98c-2e7d7d2fc5f9",
   "metadata": {},
   "outputs": [
    {
     "name": "stdout",
     "output_type": "stream",
     "text": [
      "5050\n"
     ]
    }
   ],
   "source": [
    "#print sum of no 1-100 using while loop\n",
    "z=1\n",
    "x=101\n",
    "y=0\n",
    "while z<x:\n",
    "  y=y+z\n",
    "  z=z+1\n",
    "print(y)"
   ]
  },
  {
   "cell_type": "code",
   "execution_count": 14,
   "id": "f7ef05a5-3e26-4656-af30-53b83fabacb7",
   "metadata": {},
   "outputs": [
    {
     "name": "stdout",
     "output_type": "stream",
     "text": [
      "10\n"
     ]
    }
   ],
   "source": [
    "#2nd. Calculate the sum of digits in a number\n",
    "n= 1234 \n",
    "sum = 0\n",
    "while (n != 0):\n",
    "    n = n//10 \n",
    "    sum = sum +1+ (n % 10)\n",
    "print(sum)  "
   ]
  },
  {
   "cell_type": "code",
   "execution_count": 16,
   "id": "4b37d7c7-5292-469b-88bd-c332878caba6",
   "metadata": {},
   "outputs": [
    {
     "name": "stdout",
     "output_type": "stream",
     "text": [
      "2\n",
      "4\n",
      "6\n",
      "8\n",
      "10\n"
     ]
    }
   ],
   "source": [
    "# Print even number using while loop\n",
    "x=1\n",
    "while x<11:\n",
    "    if x%2==0:\n",
    "        print(x)\n",
    "    x+=1"
   ]
  },
  {
   "cell_type": "code",
   "execution_count": 18,
   "id": "d177c2e1-6618-4565-93b8-e844ac5553a6",
   "metadata": {},
   "outputs": [
    {
     "name": "stdout",
     "output_type": "stream",
     "text": [
      "9876\n"
     ]
    }
   ],
   "source": [
    "#reverse a no using while loop\n",
    "x = 6789\n",
    "reverse = 0\n",
    "while x!=0:\n",
    "    digit = x % 10\n",
    "    reverse = reverse * 10 + digit\n",
    "    x //= 10\n",
    "print(reverse)"
   ]
  },
  {
   "cell_type": "code",
   "execution_count": 20,
   "id": "333f7a1c-8c60-45c1-a5b7-b843e3a9daaa",
   "metadata": {},
   "outputs": [
    {
     "name": "stdout",
     "output_type": "stream",
     "text": [
      "79\n"
     ]
    }
   ],
   "source": [
    "#find the largest no in a list\n",
    "x=[12,76,79]\n",
    "y=x[0]\n",
    "i=1\n",
    "while i<len(x):\n",
    "    if x[i]>y:\n",
    "        y=x[i]\n",
    "    i+=1\n",
    "print(y)"
   ]
  },
  {
   "cell_type": "code",
   "execution_count": 22,
   "id": "2bf116df-cb1b-44bd-8698-349c26566028",
   "metadata": {},
   "outputs": [
    {
     "name": "stdout",
     "output_type": "stream",
     "text": [
      "12\n"
     ]
    }
   ],
   "source": [
    "#find the smallest no in a list\n",
    "x=[12,76,79]\n",
    "y=x[0]\n",
    "i=0\n",
    "while i<len(x):\n",
    "    if x[i]<y:\n",
    "        y=x[i]\n",
    "    i+=1\n",
    "print(y)"
   ]
  },
  {
   "cell_type": "code",
   "execution_count": null,
   "id": "c66721f8-9512-4e0e-9a85-74fc252fb292",
   "metadata": {},
   "outputs": [],
   "source": []
  }
 ],
 "metadata": {
  "kernelspec": {
   "display_name": "Python 3 (ipykernel)",
   "language": "python",
   "name": "python3"
  },
  "language_info": {
   "codemirror_mode": {
    "name": "ipython",
    "version": 3
   },
   "file_extension": ".py",
   "mimetype": "text/x-python",
   "name": "python",
   "nbconvert_exporter": "python",
   "pygments_lexer": "ipython3",
   "version": "3.12.4"
  }
 },
 "nbformat": 4,
 "nbformat_minor": 5
}
