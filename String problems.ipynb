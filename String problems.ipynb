{
 "cells": [
  {
   "cell_type": "code",
   "execution_count": 23,
   "id": "8037d8ce-4d56-474f-8108-bdcef4ddc54f",
   "metadata": {},
   "outputs": [],
   "source": [
    "#1st. Program to check whether the string is Symmetrical or Palindrome"
   ]
  },
  {
   "cell_type": "code",
   "execution_count": 1,
   "id": "629fdae9-9fd9-4ec0-821f-8736b2409223",
   "metadata": {},
   "outputs": [
    {
     "name": "stdout",
     "output_type": "stream",
     "text": [
      "Baji is a symetrical\n"
     ]
    }
   ],
   "source": [
    "x = 'Baji'\n",
    "z = ''\n",
    "for i in x:\n",
    "  z = i + z\n",
    "if(x == z ):\n",
    "     print(x,\"is a palindrome\")\n",
    "else:\n",
    "     print(x,\"is a symetrical\")"
   ]
  },
  {
   "cell_type": "code",
   "execution_count": 11,
   "id": "b405f9f9-5000-49d2-8e15-1779fae199c9",
   "metadata": {},
   "outputs": [],
   "source": [
    "#2nd. Reverse words in a given String in Python"
   ]
  },
  {
   "cell_type": "code",
   "execution_count": 3,
   "id": "74d73a71-c652-403a-8ed2-95fbff0c2ddd",
   "metadata": {},
   "outputs": [
    {
     "name": "stdout",
     "output_type": "stream",
     "text": [
      "ahtorB olleH\n"
     ]
    }
   ],
   "source": [
    "x=\"Hello Brotha\"\n",
    "z=''\n",
    "for i in x:\n",
    "  z=i+z\n",
    "print(z)"
   ]
  },
  {
   "cell_type": "code",
   "execution_count": 13,
   "id": "9ff38733-e5a4-47e5-b251-cadbb9cfe476",
   "metadata": {},
   "outputs": [],
   "source": [
    "#3rd. Ways to remove i’th character from string in Python"
   ]
  },
  {
   "cell_type": "code",
   "execution_count": 5,
   "id": "ae5bd202-059d-4128-8c74-ea172bc8a84e",
   "metadata": {},
   "outputs": [
    {
     "name": "stdin",
     "output_type": "stream",
     "text": [
      "enter a number 3\n"
     ]
    },
    {
     "name": "stdout",
     "output_type": "stream",
     "text": [
      "Helo World\n"
     ]
    }
   ],
   "source": [
    "s = \"Hello World\"\n",
    "i = int(input(\"enter a number\"))\n",
    "result = s[:i] + s[i+1:]\n",
    "print(result)"
   ]
  },
  {
   "cell_type": "code",
   "execution_count": 15,
   "id": "0e3b5f28-ebe2-47ee-951b-3ec5db6e61dc",
   "metadata": {},
   "outputs": [],
   "source": [
    "#4th. Find length of a string in python (4 ways)"
   ]
  },
  {
   "cell_type": "code",
   "execution_count": 7,
   "id": "e301aaeb-9aa5-48c8-85bc-bc7dc98fb673",
   "metadata": {},
   "outputs": [
    {
     "name": "stdout",
     "output_type": "stream",
     "text": [
      "17\n",
      "8\n",
      "6\n",
      "5\n"
     ]
    }
   ],
   "source": [
    "#1st way\n",
    "x = \"Hello Armwrestler\"\n",
    "print(len(x)) \n",
    "#2nd way\n",
    "x= \"Hello Mr\"\n",
    "z = len(x)\n",
    "print(z) \n",
    "#3rd way\n",
    "x = \"Hello\"\n",
    "l=x.count(\"\")\n",
    "print(l)\n",
    "#4th way \n",
    "x = \"Hello\"\n",
    "y = 0\n",
    "for i in x:\n",
    "    y += 1\n",
    "print(y) "
   ]
  },
  {
   "cell_type": "code",
   "execution_count": 21,
   "id": "43afc611-ebc4-4fad-beb0-4273b9fa75ed",
   "metadata": {},
   "outputs": [],
   "source": [
    "#5th. Avoid Spaces in string length"
   ]
  },
  {
   "cell_type": "code",
   "execution_count": 9,
   "id": "b483f3f8-fe39-463b-b88d-862074054d2c",
   "metadata": {},
   "outputs": [
    {
     "data": {
      "text/plain": [
       "'hello world'"
      ]
     },
     "execution_count": 9,
     "metadata": {},
     "output_type": "execute_result"
    }
   ],
   "source": [
    "x= '   hello world   '\n",
    "x.strip()"
   ]
  },
  {
   "cell_type": "code",
   "execution_count": 25,
   "id": "c250357b-fa6d-4ace-9278-10f23e7eb3d7",
   "metadata": {},
   "outputs": [],
   "source": [
    "#6th. Python program to print even length words in a string"
   ]
  },
  {
   "cell_type": "code",
   "execution_count": 11,
   "id": "9d78e714-20d8-4654-bfe1-de7f6f4e4604",
   "metadata": {},
   "outputs": [
    {
     "name": "stdout",
     "output_type": "stream",
     "text": [
      "Is\n",
      "this\n",
      "answer\n",
      "assignment\n"
     ]
    }
   ],
   "source": [
    "x=\"Is this a answer for assignment\"\n",
    "y=x.split(\" \") \n",
    "for i in y:\n",
    "    if len(i)%2==0:\n",
    "        print(i)"
   ]
  },
  {
   "cell_type": "code",
   "execution_count": 53,
   "id": "47e4a391-e1d9-4a44-8c67-b0fb62da20b6",
   "metadata": {},
   "outputs": [],
   "source": [
    "#7th.  Uppercase Half String|"
   ]
  },
  {
   "cell_type": "code",
   "execution_count": 13,
   "id": "b70a624f-2e2d-42cc-acba-91ee96d70bcf",
   "metadata": {},
   "outputs": [
    {
     "name": "stdout",
     "output_type": "stream",
     "text": [
      "The string is: Hello ArMWRESTLER\n"
     ]
    }
   ],
   "source": [
    "x = 'Hello Armwrestler'\n",
    "y = len(x) // 2\n",
    "z = x[:y] + x[y:].upper()\n",
    "print(\"The string is:\",z)"
   ]
  },
  {
   "cell_type": "code",
   "execution_count": 27,
   "id": "3ca15a38-d98e-4eb2-86c3-ecda37bf3dff",
   "metadata": {},
   "outputs": [],
   "source": [
    "#8th. Python program to capitalize the first and last character of each word in a string"
   ]
  },
  {
   "cell_type": "code",
   "execution_count": 15,
   "id": "666bcaee-b0e0-4492-9483-a339a85d8f81",
   "metadata": {},
   "outputs": [
    {
     "name": "stdout",
     "output_type": "stream",
     "text": [
      "Hello World\n"
     ]
    }
   ],
   "source": [
    "x= ('hello world')\n",
    "print(x.title())"
   ]
  },
  {
   "cell_type": "code",
   "execution_count": 79,
   "id": "6f50f2d5-3482-4e8b-b30f-ce3be717267e",
   "metadata": {},
   "outputs": [],
   "source": [
    "#9th. Program to capitalize the first and last character of each word in a string"
   ]
  },
  {
   "cell_type": "code",
   "execution_count": 17,
   "id": "4d5b9275-4bf5-495a-9d25-286b9089493a",
   "metadata": {},
   "outputs": [
    {
     "name": "stdout",
     "output_type": "stream",
     "text": [
      "The string is: Hello ArmwrestleR\n"
     ]
    }
   ],
   "source": [
    "x = 'hello Armwrestler'\n",
    "z = x[0].upper()+x[1:-1] + x[-1].upper()\n",
    "print(\"The string is:\",z)"
   ]
  },
  {
   "cell_type": "code",
   "execution_count": 83,
   "id": "3f833ae8-2104-478e-8891-3066b787db6f",
   "metadata": {},
   "outputs": [],
   "source": [
    "#10th. Python program to check if a string has at least one letter and one number"
   ]
  },
  {
   "cell_type": "code",
   "execution_count": 19,
   "id": "d8beb64e-5257-4d5f-8e17-1d25e4c402f1",
   "metadata": {},
   "outputs": [
    {
     "name": "stdout",
     "output_type": "stream",
     "text": [
      "no\n"
     ]
    }
   ],
   "source": [
    "x=\"tokkyomanji2\"\n",
    "if (i.isalpha() and i.isdigit() ):\n",
    "    print(\"yes\")\n",
    "else:\n",
    "    print(\"no\")"
   ]
  },
  {
   "cell_type": "code",
   "execution_count": 86,
   "id": "9598217b-d7c5-498a-89f7-20641867e229",
   "metadata": {},
   "outputs": [],
   "source": [
    "#11th. Program to accept the strings which contains all vowels"
   ]
  },
  {
   "cell_type": "code",
   "execution_count": 21,
   "id": "7a639dcd-8345-4245-b4c9-0775a8fa3e06",
   "metadata": {},
   "outputs": [
    {
     "name": "stdout",
     "output_type": "stream",
     "text": [
      "no\n"
     ]
    }
   ],
   "source": [
    "x=\"aseahil\"\n",
    "y= [x.count('a'),x.count('e'),x.count('i'),x.count('o'),x.count('u')]\n",
    "if y.count(0) >0:\n",
    "    print(\"no\")\n",
    "else:\n",
    "    print(\"yes\")"
   ]
  },
  {
   "cell_type": "code",
   "execution_count": 91,
   "id": "af1124ac-e3c4-4432-88f7-df808321f80a",
   "metadata": {},
   "outputs": [],
   "source": [
    "#12th. Count the Number of matching characters in a pair of string"
   ]
  },
  {
   "cell_type": "code",
   "execution_count": 23,
   "id": "f4fbb23b-89d3-47ca-98f0-cfc88928270b",
   "metadata": {},
   "outputs": [
    {
     "name": "stdout",
     "output_type": "stream",
     "text": [
      "4\n"
     ]
    }
   ],
   "source": [
    "str1 = \"Herlo\"\n",
    "str2 = \"Worle\"\n",
    "common_chars = set(str1) & set(str2)\n",
    "z = sum(min(str1.count(char), str2.count(char)) for char in common_chars)\n",
    "print(z)"
   ]
  },
  {
   "cell_type": "code",
   "execution_count": 108,
   "id": "94784723-ae0f-4a11-9f91-e85981f4d4d9",
   "metadata": {},
   "outputs": [],
   "source": [
    "#13th. Program to count number of vowels using sets in given string"
   ]
  },
  {
   "cell_type": "code",
   "execution_count": 25,
   "id": "7e7a1508-2324-407e-a892-f31f2dfc3afa",
   "metadata": {},
   "outputs": [
    {
     "name": "stdout",
     "output_type": "stream",
     "text": [
      "3\n"
     ]
    }
   ],
   "source": [
    "x=\"bvaikerbbr\"\n",
    "y=set(\"aeiou\")\n",
    "count=0\n",
    "for i  in x:\n",
    "    if i in y:\n",
    "        count+=1\n",
    "print(count)"
   ]
  },
  {
   "cell_type": "code",
   "execution_count": 120,
   "id": "2cf36564-49fa-43a8-8608-a93e2e356724",
   "metadata": {},
   "outputs": [],
   "source": [
    "#14th. Program to remove all duplicates from a given string"
   ]
  },
  {
   "cell_type": "code",
   "execution_count": 27,
   "id": "7774dbec-2421-4f95-a6dd-1cfb27efedbd",
   "metadata": {},
   "outputs": [
    {
     "name": "stdout",
     "output_type": "stream",
     "text": [
      "[1, 2, 5, 9]\n"
     ]
    }
   ],
   "source": [
    "x= [1, 2, 1, 2, 3, 4, 5, 1, 1, 2, 5, 6, 7, 8, 9, 9]\n",
    "y= []\n",
    "z = []\n",
    "for i in x:\n",
    "    if i not in y:\n",
    "        y.append(i)\n",
    "    elif i not in z:     #kyuki list same elemts ko ek hi manta hai \n",
    "        z.append(i)\n",
    "print(z)"
   ]
  },
  {
   "cell_type": "code",
   "execution_count": 134,
   "id": "7247f99f-faed-47ed-a24c-1ac58a073e6d",
   "metadata": {},
   "outputs": [],
   "source": [
    "#15th.Least Frequent Character in String"
   ]
  },
  {
   "cell_type": "code",
   "execution_count": 194,
   "id": "35299d63-bb54-4d48-8dc2-418d390e32f8",
   "metadata": {},
   "outputs": [
    {
     "name": "stdout",
     "output_type": "stream",
     "text": [
      "Least frequent character: H\n"
     ]
    }
   ],
   "source": [
    "x = \"llo World\"\n",
    "y = input_string[0]\n",
    "z = input_string.count(y)\n",
    "for i in set(x):\n",
    "    c = x.count(i)\n",
    "    if c< z:\n",
    "        z= c\n",
    "        y =i\n",
    "print(\"Least frequent character:\", y)"
   ]
  },
  {
   "cell_type": "code",
   "execution_count": 158,
   "id": "f703b9af-41b3-4fcf-bea6-34cba0c02255",
   "metadata": {},
   "outputs": [],
   "source": [
    "#16th. Maximum frequency character in String"
   ]
  },
  {
   "cell_type": "code",
   "execution_count": 29,
   "id": "84d5ef5c-7dd1-47f4-b7a7-4dfb54335afc",
   "metadata": {},
   "outputs": [
    {
     "name": "stdout",
     "output_type": "stream",
     "text": [
      "Most frequent character: l\n"
     ]
    }
   ],
   "source": [
    "x = \"hoello Armwrestler\"\n",
    "y = x[0]\n",
    "z = x.count(y)\n",
    "for i in set(x):\n",
    "    c = x.count(i)\n",
    "    if c> z:\n",
    "        z= c\n",
    "        y =i\n",
    "print(\"Most frequent character:\", y)"
   ]
  },
  {
   "cell_type": "code",
   "execution_count": 206,
   "id": "f375d9e5-5ff5-4bf0-84f5-b05e325c966c",
   "metadata": {},
   "outputs": [],
   "source": [
    "#17th.Odd Frequency Characters"
   ]
  },
  {
   "cell_type": "code",
   "execution_count": 31,
   "id": "28eabc77-d04f-4a17-a3bb-3e34d51b7f1d",
   "metadata": {},
   "outputs": [
    {
     "name": "stdout",
     "output_type": "stream",
     "text": [
      "odd frequency ['l', 'W', 'e', 'r', ' ', 'd', 'H']\n"
     ]
    }
   ],
   "source": [
    "x = \"Hello World\"\n",
    "y = []\n",
    "for i in set(x):\n",
    "    z = x.count(i)\n",
    "    if z % 2 != 0:\n",
    "        y.append(i)\n",
    "print(\"odd frequency\", y)"
   ]
  },
  {
   "cell_type": "code",
   "execution_count": 37,
   "id": "e3d17ff5-2236-41e1-898a-0a147be3666d",
   "metadata": {},
   "outputs": [],
   "source": [
    "#18th. Specific Characters Frequency in String List"
   ]
  },
  {
   "cell_type": "code",
   "execution_count": 33,
   "id": "fc4e8eb6-026e-45e6-8e4c-0db35940492d",
   "metadata": {},
   "outputs": [
    {
     "name": "stdout",
     "output_type": "stream",
     "text": [
      "Input characters frequency :  {'e': 8, 'i': 4, 'a': 6}\n"
     ]
    }
   ],
   "source": [
    "x = [\"Whatever it takes no matter give your fulll and rest do nothing eat five star.\"]\n",
    "y = ['e', 'i', 'a']\n",
    "d=dict()\n",
    "for i in y:\n",
    "\td[i]=x[0].count(i)\n",
    "z=d\n",
    "print(\"Input characters frequency : \", (z))"
   ]
  },
  {
   "cell_type": "code",
   "execution_count": 39,
   "id": "378be0be-f2b3-4d8e-ab7f-7c1c0aa950fc",
   "metadata": {},
   "outputs": [],
   "source": [
    "#19th. Frequency of numbers in String"
   ]
  },
  {
   "cell_type": "code",
   "execution_count": 35,
   "id": "ae803e02-94c0-4225-a2d9-ecf975d2d733",
   "metadata": {},
   "outputs": [
    {
     "name": "stdout",
     "output_type": "stream",
     "text": [
      "3\n"
     ]
    }
   ],
   "source": [
    "x=\"Whats'sup huh sahiluk97 is this you aw3some\"\n",
    "y=0\n",
    "for i in x:\n",
    "    if i.isdigit():\n",
    "      y+=1\n",
    "print(y)"
   ]
  },
  {
   "cell_type": "code",
   "execution_count": 49,
   "id": "96160b56-2750-40eb-94c3-41bb8e34c050",
   "metadata": {},
   "outputs": [],
   "source": [
    "#20th. Program to check if a string contains any special character"
   ]
  },
  {
   "cell_type": "code",
   "execution_count": 37,
   "id": "8d49e4be-e738-4def-b61b-b86c7049f5e1",
   "metadata": {},
   "outputs": [
    {
     "name": "stdout",
     "output_type": "stream",
     "text": [
      "special characters.\n"
     ]
    }
   ],
   "source": [
    "x= \"$Hello@World\"\n",
    "if not x.isalnum():\n",
    "    print(\"special characters.\")\n",
    "else:\n",
    "    print(\"not special characters.\")"
   ]
  },
  {
   "cell_type": "code",
   "execution_count": 5,
   "id": "4b468877-4b0a-43c7-bae9-d4dd7efeee6d",
   "metadata": {},
   "outputs": [],
   "source": [
    "#21st answer\n",
    "#x=\"32,23,23\"\n",
    "#count=0\n",
    "#for i in x:"
   ]
  },
  {
   "cell_type": "code",
   "execution_count": 39,
   "id": "b2ef431b-85e5-4092-838e-62476811ed66",
   "metadata": {},
   "outputs": [],
   "source": [
    "#21st. Find words which are greater than given length k"
   ]
  },
  {
   "cell_type": "code",
   "execution_count": 41,
   "id": "9b5f6f1f-de96-4ee9-9a5b-5b90d0c9b567",
   "metadata": {},
   "outputs": [
    {
     "name": "stdout",
     "output_type": "stream",
     "text": [
      "['Hello', \"what'sup\"]\n"
     ]
    }
   ],
   "source": [
    "x = \"Hello guys what'sup\"\n",
    "y= 4\n",
    "print([z for z in x.split() if len(z) > y])"
   ]
  },
  {
   "cell_type": "code",
   "execution_count": 43,
   "id": "d71dcee3-61b4-4322-9cc2-8e5a822c1735",
   "metadata": {},
   "outputs": [],
   "source": [
    "#22nd. Program for removing i-th character from a string"
   ]
  },
  {
   "cell_type": "code",
   "execution_count": 45,
   "id": "f1da6d7c-59c0-48b0-a238-d901ed05d236",
   "metadata": {},
   "outputs": [
    {
     "name": "stdout",
     "output_type": "stream",
     "text": [
      "Good Morining sir \n"
     ]
    }
   ],
   "source": [
    "x = \"Good Morining bsir \"\n",
    "z = 14\n",
    "if z < 0 or z >= len(x):\n",
    "    print(\"Invalid index.\")\n",
    "else:\n",
    "    y= x[:z] + x[z+1:]\n",
    "    print(y)"
   ]
  },
  {
   "cell_type": "code",
   "execution_count": 47,
   "id": "54a03669-3c1d-434e-9a02-1c6f04630df4",
   "metadata": {},
   "outputs": [],
   "source": [
    "#23rd.Program to split and join a string"
   ]
  },
  {
   "cell_type": "code",
   "execution_count": 49,
   "id": "a51402ed-5c14-4394-9dff-1d72c3904bc8",
   "metadata": {},
   "outputs": [
    {
     "name": "stdout",
     "output_type": "stream",
     "text": [
      "[\"It's\", 'impossible']\n",
      "It's not impossible\n"
     ]
    }
   ],
   "source": [
    "x = \"It's impossible\"\n",
    "print(x.split(\" \")) \n",
    "print(\" not \".join(x.split()))"
   ]
  },
  {
   "cell_type": "code",
   "execution_count": 51,
   "id": "11d8281e-18b9-471e-9485-3530ba4c3829",
   "metadata": {},
   "outputs": [],
   "source": [
    "#24th.  Check if a given string is binary string or not"
   ]
  },
  {
   "cell_type": "code",
   "execution_count": 53,
   "id": "0b56f0a5-ad68-44ba-a897-8b2b19c04545",
   "metadata": {},
   "outputs": [
    {
     "name": "stdout",
     "output_type": "stream",
     "text": [
      "No\n"
     ]
    }
   ],
   "source": [
    "x = \"0107\"\n",
    "y=\"01\"\n",
    "for i in y:\n",
    "    x=x.replace(i,\"\")\n",
    "if(len(x)==0):\n",
    "    print(\"Yes\")\n",
    "else:\n",
    "    print(\"No\")"
   ]
  },
  {
   "cell_type": "code",
   "execution_count": 55,
   "id": "7f8e0532-3b51-461c-bf75-3fc418fd0eef",
   "metadata": {},
   "outputs": [],
   "source": [
    "#25th. Find all close matches of input string from a list"
   ]
  },
  {
   "cell_type": "code",
   "execution_count": 57,
   "id": "d2ca542f-0b89-4ec2-b785-96d3a48cc21d",
   "metadata": {},
   "outputs": [
    {
     "name": "stdout",
     "output_type": "stream",
     "text": [
      "hello\n",
      "Close Matches:\n",
      "hello world\n",
      "hello friend\n",
      "hello\n"
     ]
    }
   ],
   "source": [
    "x = \"hello\"\n",
    "y= [\"hello world\", \"hello friend\", \"hi world\", \"hello\", \"goodbye\"]\n",
    "z = []\n",
    "for i in y:\n",
    "    if x in i:\n",
    "        z.append(i)\n",
    "print( x)\n",
    "print(\"Close Matches:\")\n",
    "for u in z:\n",
    "    print(u)"
   ]
  },
  {
   "cell_type": "code",
   "execution_count": 59,
   "id": "c73e1b93-d664-4cbc-ac70-c53ccb040c21",
   "metadata": {},
   "outputs": [],
   "source": [
    "#26th. Program to find uncommon words from two Strings"
   ]
  },
  {
   "cell_type": "code",
   "execution_count": 61,
   "id": "5733ed02-080c-454e-8ee2-202148388fab",
   "metadata": {},
   "outputs": [
    {
     "name": "stdout",
     "output_type": "stream",
     "text": [
      "['this', 'knull', 'that', 'jarves']\n"
     ]
    }
   ],
   "source": [
    "x= \"Hello world this is knull\"\n",
    "y= \"Hello world that is jarves\"\n",
    "x1 = x.split()\n",
    "y2 = y.split()\n",
    "str1 = []\n",
    "str2 = []\n",
    "for i in x1:\n",
    "    if i not in y2:\n",
    "        str1.append(i)\n",
    "for i in y2:\n",
    "    if i not in x1:\n",
    "        str2.append(i)\n",
    "total_uncommon = list(set(str1+str2))\n",
    "print( total_uncommon)"
   ]
  },
  {
   "cell_type": "code",
   "execution_count": 71,
   "id": "798bb159-5cdc-4581-9adc-cfb2a28b332c",
   "metadata": {},
   "outputs": [],
   "source": [
    "#27th. Permutation of a given string using inbuilt function"
   ]
  },
  {
   "cell_type": "code",
   "execution_count": 75,
   "id": "cc46b6b2-92b2-400f-bd9d-17d6e05bd2e2",
   "metadata": {},
   "outputs": [
    {
     "name": "stdout",
     "output_type": "stream",
     "text": [
      "Permutations:\n",
      "abc\n",
      "acb\n",
      "bac\n",
      "bca\n",
      "cab\n",
      "cba\n"
     ]
    }
   ],
   "source": [
    "#27th \n",
    "import itertools\n",
    "x = \"abc\"\n",
    "permutations = [''.join(p) for p in itertools.permutations(x)]\n",
    "print(\"Permutations:\")\n",
    "for perm in permutations:\n",
    "    print(perm)"
   ]
  },
  {
   "cell_type": "code",
   "execution_count": 77,
   "id": "e7c70640-6e3e-43dd-aca4-bb3994cfc567",
   "metadata": {},
   "outputs": [],
   "source": [
    "#28th.Check for URL in a String"
   ]
  },
  {
   "cell_type": "code",
   "execution_count": 81,
   "id": "8f85ac8f-0a95-42ab-bab6-868cc74bdeb3",
   "metadata": {},
   "outputs": [
    {
     "name": "stdout",
     "output_type": "stream",
     "text": [
      "yes it have url.\n"
     ]
    }
   ],
   "source": [
    "x = \"Hello@https://docs.google.com/document/d/1BZYZbP0V7BBQDuiiW5QatO84j-0dB7PE/edit\"\n",
    "if \"https://\" in x:\n",
    "    print(\"yes it have url.\")\n",
    "else:\n",
    "    print(\"not at all.\")"
   ]
  },
  {
   "cell_type": "code",
   "execution_count": 83,
   "id": "4b174976-f44e-44d8-beb2-d0293a482bb6",
   "metadata": {},
   "outputs": [],
   "source": [
    "#29th. Execute a String of Code in Python"
   ]
  },
  {
   "cell_type": "code",
   "execution_count": 89,
   "id": "b979c5a8-4584-4c73-a2b0-1f8acfa457af",
   "metadata": {},
   "outputs": [
    {
     "name": "stdout",
     "output_type": "stream",
     "text": [
      "Hello, World!\n"
     ]
    }
   ],
   "source": [
    "x = \"print('Hello, World!')\"\n",
    "exec(x)"
   ]
  },
  {
   "cell_type": "code",
   "execution_count": 97,
   "id": "1154791f-68c5-4169-9db4-5f077bea8da4",
   "metadata": {},
   "outputs": [],
   "source": [
    "#30th. Consecutive characters frequency"
   ]
  },
  {
   "cell_type": "code",
   "execution_count": 101,
   "id": "6512ad75-fb5f-4cf2-8a69-5d21b00fd70b",
   "metadata": {},
   "outputs": [
    {
     "name": "stdout",
     "output_type": "stream",
     "text": [
      "Characters  [1, 2, 1, 1, 3, 2, 3, 2]\n"
     ]
    }
   ],
   "source": [
    "test_str = \"httdvggghhgggtt\"\n",
    "res = []\n",
    "count = 1\n",
    "for i in range(len(test_str)-1):\n",
    "    if test_str[i] == test_str[i+1]:\n",
    "        count += 1\n",
    "    else:\n",
    "        res.append(count)\n",
    "        count = 1\n",
    "res.append(count)\n",
    "print(\"Characters \",res)"
   ]
  },
  {
   "cell_type": "code",
   "execution_count": 103,
   "id": "e3fdfae3-98fb-4dd1-831d-2421488438a0",
   "metadata": {},
   "outputs": [],
   "source": [
    "#31st. String slicing in Python to rotate a string"
   ]
  },
  {
   "cell_type": "code",
   "execution_count": 105,
   "id": "3e54fb0d-c350-46b5-a4b9-4ab2c3e4821a",
   "metadata": {},
   "outputs": [
    {
     "name": "stdout",
     "output_type": "stream",
     "text": [
      "Rotated String:  ArmrestlerHello\n"
     ]
    }
   ],
   "source": [
    "x = \"Hello Armrestler\"\n",
    "y = 5\n",
    "y = y % len(x) \n",
    "z= x[y:] + x[:y]\n",
    "print(\"Rotated String:\", z)"
   ]
  },
  {
   "cell_type": "code",
   "execution_count": 107,
   "id": "8a42b923-9f3f-4df7-84d9-cc62a38185db",
   "metadata": {},
   "outputs": [],
   "source": [
    "#32nd. String slicing in Python to check if a string can become empty by recursive deletion"
   ]
  },
  {
   "cell_type": "code",
   "execution_count": 109,
   "id": "b4d20ac6-ea27-403f-9c09-68090c100d28",
   "metadata": {},
   "outputs": [
    {
     "name": "stdout",
     "output_type": "stream",
     "text": [
      "Minimum Rotations: 17\n"
     ]
    }
   ],
   "source": [
    "input_str = \"Hello Armwrestler\"\n",
    "doubled_str = input_str + input_str\n",
    "z= doubled_str.find(input_str, 1)\n",
    "print(\"Minimum Rotations:\", z)"
   ]
  },
  {
   "cell_type": "code",
   "execution_count": 111,
   "id": "43b5505f-6209-400f-b0d9-cdec221e5a12",
   "metadata": {},
   "outputs": [],
   "source": [
    "#33rd. Words Frequency in String Shorthands"
   ]
  },
  {
   "cell_type": "code",
   "execution_count": 113,
   "id": "1874df51-d0f9-4d33-b09f-15fe692e8caa",
   "metadata": {},
   "outputs": [
    {
     "name": "stdout",
     "output_type": "stream",
     "text": [
      "{'who': 1, 'is': 2, 'the': 2, 'best,is': 1, 'am': 1, 'i': 3, 'best': 2}\n"
     ]
    }
   ],
   "source": [
    "x = 'who is the best,is am i the best'\n",
    "y = {key: x.count(key) for key in x.split()}\n",
    "print(y)"
   ]
  },
  {
   "cell_type": "code",
   "execution_count": 115,
   "id": "d389470d-f42d-4ad3-9e6d-0bcdc73fd4e9",
   "metadata": {},
   "outputs": [],
   "source": [
    "#34th.  Mirror Image of String"
   ]
  },
  {
   "cell_type": "code",
   "execution_count": 117,
   "id": "709de25b-e09b-450e-9842-5827682006b5",
   "metadata": {},
   "outputs": [
    {
     "name": "stdout",
     "output_type": "stream",
     "text": [
      "Mirror Image: reltserwmrA olleH\n"
     ]
    }
   ],
   "source": [
    "x = \"Hello World\"\n",
    "y = input_str[::-1]\n",
    "print(\"Mirror Image:\", y)"
   ]
  },
  {
   "cell_type": "code",
   "execution_count": 119,
   "id": "12f1ff7b-ede0-45db-be64-a61aabf9bbdc",
   "metadata": {},
   "outputs": [],
   "source": [
    "#35th. Ways to remove multiple empty spaces from string List"
   ]
  },
  {
   "cell_type": "code",
   "execution_count": 121,
   "id": "9ac78146-8d4f-4531-9833-8c38fe03dc17",
   "metadata": {},
   "outputs": [
    {
     "name": "stdout",
     "output_type": "stream",
     "text": [
      "Lets'sbringmedalforNation\n"
     ]
    }
   ],
   "source": [
    "x= \"Lets's bring medal for Nation\"\n",
    "x = x.replace(\" \", \"\")\n",
    "print(x)"
   ]
  },
  {
   "cell_type": "code",
   "execution_count": 123,
   "id": "b5526e95-d982-48aa-8cb1-0200fd307fb1",
   "metadata": {},
   "outputs": [],
   "source": [
    "#36. Remove punctuation from string"
   ]
  },
  {
   "cell_type": "code",
   "execution_count": 125,
   "id": "7a772515-44f0-4cfb-903f-f3c910beff60",
   "metadata": {},
   "outputs": [
    {
     "name": "stdout",
     "output_type": "stream",
     "text": [
      "\n",
      "Original String: Hello Armwrestler\n",
      "No Punctuation String (Method 2): Hello Armwrestler\n"
     ]
    }
   ],
   "source": [
    "import string\n",
    "no_punct_str = input_str\n",
    "for punct in string.punctuation:\n",
    "    no_punct_str = no_punct_str.replace(punct, '')\n",
    "\n",
    "print(\"\\nOriginal String:\", input_str)\n",
    "print(\"No Punctuation String (Method 2):\", no_punct_str)\n"
   ]
  },
  {
   "cell_type": "code",
   "execution_count": 127,
   "id": "e35b74fb-8a9b-47f5-a5bc-819d1e50b025",
   "metadata": {},
   "outputs": [],
   "source": [
    "#37th. Similar characters Strings comparison"
   ]
  },
  {
   "cell_type": "code",
   "execution_count": 129,
   "id": "ca3a9960-8425-4e15-a16f-f537ade1a4c6",
   "metadata": {},
   "outputs": [
    {
     "name": "stdout",
     "output_type": "stream",
     "text": [
      "Similar {'o'}\n"
     ]
    }
   ],
   "source": [
    "s1 = \"hoi\"\n",
    "s2 = \"Hola\"\n",
    "x = set(s1) & set(s2)\n",
    "print(\"Similar\", x)"
   ]
  },
  {
   "cell_type": "code",
   "execution_count": 133,
   "id": "487cfd3c-e36e-4201-b434-b59dfbffd86f",
   "metadata": {},
   "outputs": [],
   "source": [
    "#38th. Find all duplicate characters in string"
   ]
  },
  {
   "cell_type": "code",
   "execution_count": 135,
   "id": "630c3c7a-ab4a-46ef-b6d2-6932c26fb622",
   "metadata": {},
   "outputs": [
    {
     "name": "stdout",
     "output_type": "stream",
     "text": [
      "Duplicate Characters: {'r': 3, 'e': 2}\n"
     ]
    }
   ],
   "source": [
    "import collections\n",
    "\n",
    "x = \"Armwrestler\"\n",
    "x = collections.Counter(x)\n",
    "duplicate_chars = {char: count for char, count in x.items() if count > 1}\n",
    "\n",
    "print(\"Duplicate Characters:\", duplicate_chars)"
   ]
  },
  {
   "cell_type": "code",
   "execution_count": 137,
   "id": "41082c01-5609-4f5c-a523-db32038ef352",
   "metadata": {},
   "outputs": [],
   "source": [
    "#39th Ways to convert string to dictionary"
   ]
  },
  {
   "cell_type": "code",
   "execution_count": 139,
   "id": "20e913ca-d449-409b-a0f1-4afbfce842e7",
   "metadata": {},
   "outputs": [
    {
     "name": "stdout",
     "output_type": "stream",
     "text": [
      "{' Micky ': ' Toman', ' Sahoo ': ' Toso', ' Senju ': ' Brahman'}\n",
      "{' you ': ' us', ' us ': ' happiness'}\n"
     ]
    }
   ],
   "source": [
    "#1st way\n",
    "str = \" Micky = Toman; Sahoo = Toso; Senju = Brahman\"\n",
    "res=dict()\n",
    "x=str.split(\";\")\n",
    "for i in x:\n",
    "    a=i[:i.index(\"=\")]\n",
    "    b=i[i.index(\"=\")+1:]\n",
    "    res[a]=b\n",
    "print(res)\n",
    "#2nd way\n",
    "x = \" you = me; you = us; us = happiness\"\n",
    "u = dict(i.split(\"=\") for i in x.split(\";\"))\n",
    "print(u)"
   ]
  },
  {
   "cell_type": "code",
   "execution_count": 143,
   "id": "2e00b4a0-7486-49aa-8a31-f7741bdd05c5",
   "metadata": {},
   "outputs": [],
   "source": [
    "#40th. Test if string is subset of another"
   ]
  },
  {
   "cell_type": "code",
   "execution_count": 145,
   "id": "596d9dcb-d42c-40ea-b270-0b4733ae3329",
   "metadata": {},
   "outputs": [
    {
     "name": "stdout",
     "output_type": "stream",
     "text": [
      "False\n"
     ]
    }
   ],
   "source": [
    "x = \"whats'ups\"\n",
    "y = \"whsf\"\n",
    "z = set(y).issubset(x)\n",
    "print(z)"
   ]
  },
  {
   "cell_type": "code",
   "execution_count": 147,
   "id": "3beda10f-3996-42cc-a7a7-94e2a6f6726c",
   "metadata": {},
   "outputs": [],
   "source": [
    "#41st. Program to convert binary to string"
   ]
  },
  {
   "cell_type": "code",
   "execution_count": 149,
   "id": "5d082fe4-1d20-40a5-bf2b-5bb52babcbf1",
   "metadata": {},
   "outputs": [
    {
     "name": "stdout",
     "output_type": "stream",
     "text": [
      "Sreing hello\n"
     ]
    }
   ],
   "source": [
    "x = \"01101000 01100101 01101100 01101100 01101111\"\n",
    "z= x.split()\n",
    "y = ''.join(chr(int(i, 2)) for i in z)\n",
    "print(\"Sreing\", y)"
   ]
  },
  {
   "cell_type": "code",
   "execution_count": 151,
   "id": "38e03072-2e8e-44b5-9f91-452bdf149f37",
   "metadata": {},
   "outputs": [],
   "source": [
    "#42nd.  Reverse Sort a String"
   ]
  },
  {
   "cell_type": "code",
   "execution_count": 153,
   "id": "3feabb61-5ff8-45d0-855b-d165af6113eb",
   "metadata": {},
   "outputs": [
    {
     "name": "stdout",
     "output_type": "stream",
     "text": [
      "Reverse Sorted String: ollhe\n"
     ]
    }
   ],
   "source": [
    "x = \"hello\"\n",
    "y = \"\".join(sorted(x, reverse=True))\n",
    "print(\"Reverse Sorted String:\",y)"
   ]
  }
 ],
 "metadata": {
  "kernelspec": {
   "display_name": "Python 3 (ipykernel)",
   "language": "python",
   "name": "python3"
  },
  "language_info": {
   "codemirror_mode": {
    "name": "ipython",
    "version": 3
   },
   "file_extension": ".py",
   "mimetype": "text/x-python",
   "name": "python",
   "nbconvert_exporter": "python",
   "pygments_lexer": "ipython3",
   "version": "3.12.4"
  }
 },
 "nbformat": 4,
 "nbformat_minor": 5
}
